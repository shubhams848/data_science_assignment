{
 "cells": [
  {
   "cell_type": "raw",
   "id": "55f20264-cbfe-416e-bf1f-6de6eda8a9cf",
   "metadata": {},
   "source": [
    "Q1. What is an Exception in python? Write the difference between Exceptions and Syntax errors.\n",
    "Q2. What happens when an exception is not handled? Explain with an example.\n",
    "Q3. Which Python statements are used to catch and handle exceptions? Explain with an example.\n",
    "Q4. Explain with an example:\n",
    "    a. try and else\n",
    "    b. finally\n",
    "    c. raise\n",
    "Q5. What are Custom Exceptions in python? Why do we need Custom Exceptions? Explain with an example.\n",
    "Q6. Create a custom exception class. Use this class to handle an exception."
   ]
  },
  {
   "cell_type": "markdown",
   "id": "6106f7c4-a922-49a3-915f-0ffb38b90eb5",
   "metadata": {},
   "source": [
    "Q1. What is an Exception in python? Write the difference between Exceptions and Syntax errors."
   ]
  },
  {
   "cell_type": "markdown",
   "id": "680fe8f7-35d6-4122-89dc-8d0f33ca7081",
   "metadata": {},
   "source": [
    "Solution:"
   ]
  },
  {
   "cell_type": "markdown",
   "id": "d9153576-6aa2-4250-ac89-cba6a061c03c",
   "metadata": {},
   "source": [
    "Exception:\n",
    "\n",
    "    1. Occurs during program execution \n",
    "    2. Detected at runtime\n",
    "    3. Handle using try-except blocks \n",
    "    4. Examples include ZeroDivisonError,FileNotFoundError.\n",
    "    \n",
    "Syntax Error:\n",
    "\n",
    "    1. Occure during code before execution.\n",
    "    2. Detected before runtime \n",
    "    3. Must be fixed in the code execution\n",
    "    4. Examples include missing colons;, unmatched parentheses.    "
   ]
  },
  {
   "cell_type": "code",
   "execution_count": 2,
   "id": "c48e3571-74b6-4f76-b1d4-e26f149e6638",
   "metadata": {},
   "outputs": [
    {
     "name": "stdout",
     "output_type": "stream",
     "text": [
      "Error : division by zero\n"
     ]
    }
   ],
   "source": [
    "# Example: Exception\n",
    "\n",
    "try:\n",
    "    result =10/0 # this will raise a ZeroDivisionError\n",
    "    \n",
    "except ZeroDivisionError as e:\n",
    "    print(f\"Error : {e}\")\n",
    "    "
   ]
  },
  {
   "cell_type": "code",
   "execution_count": 3,
   "id": "7f62e5b9-e670-4e3b-a475-3de6a1cc5c4b",
   "metadata": {},
   "outputs": [
    {
     "name": "stdout",
     "output_type": "stream",
     "text": [
      "Hello World!\n"
     ]
    }
   ],
   "source": [
    "#Example: Syntax Error\n",
    "\n",
    "#Syntax Error Example (missing parenthesis)\n",
    "#the following line has a syntax error due to a missing parenthesis \n",
    "#print (\"Hello World!\"\n",
    "\n",
    "# To fix the syntax error ,add the missing parenthesis\n",
    "print(\"Hello World!\")"
   ]
  },
  {
   "cell_type": "markdown",
   "id": "6fd46607-af48-45b7-b90e-90438e5a2268",
   "metadata": {},
   "source": [
    "Q2. What happens when an exception is not handled? Explain with an example."
   ]
  },
  {
   "cell_type": "markdown",
   "id": "e53c9a21-d4f4-4a97-a737-6b65579a230d",
   "metadata": {},
   "source": [
    "Solution:\n",
    "   \n",
    "    1. The program terminates abruptly\n",
    "    2. An error message or traceback is usally displayed \n",
    "    3. unhandled exceptions can leads to unpredictable behaviour ,data corruption or loss \n",
    "    4. Handling exceptions with try and except block helps manage errors and prevents Program termination.\n",
    "        "
   ]
  },
  {
   "cell_type": "code",
   "execution_count": 2,
   "id": "b34c33e2-e4db-4631-a067-e97b83694ce7",
   "metadata": {},
   "outputs": [
    {
     "name": "stdout",
     "output_type": "stream",
     "text": [
      "Result 5.0\n",
      "Error : Division by Zero\n"
     ]
    }
   ],
   "source": [
    "# Example:\n",
    "\n",
    "def Div_num(N1,N2):\n",
    "    try:\n",
    "        result= N1/N2\n",
    "        print(\"Result\",result)\n",
    "    except ZeroDivisionError:\n",
    "        print(\"Error : Division by Zero\")\n",
    "\n",
    "#Example 1 : Handling the exception \n",
    "Div_num(10,2) #output :5.0\n",
    "Div_num(10,0) #ouput: Division by zero    "
   ]
  },
  {
   "cell_type": "code",
   "execution_count": 6,
   "id": "a0359768-88ad-4238-ab21-19ec0802d7a8",
   "metadata": {},
   "outputs": [
    {
     "ename": "ZeroDivisionError",
     "evalue": "division by zero",
     "output_type": "error",
     "traceback": [
      "\u001b[0;31m---------------------------------------------------------------------------\u001b[0m",
      "\u001b[0;31mZeroDivisionError\u001b[0m                         Traceback (most recent call last)",
      "Cell \u001b[0;32mIn[6], line 6\u001b[0m\n\u001b[1;32m      3\u001b[0m     \u001b[38;5;28mprint\u001b[39m(\u001b[38;5;124m\"\u001b[39m\u001b[38;5;124mResult\u001b[39m\u001b[38;5;124m\"\u001b[39m,result)\n\u001b[1;32m      5\u001b[0m \u001b[38;5;66;03m# Example 2: not handling the exception\u001b[39;00m\n\u001b[0;32m----> 6\u001b[0m \u001b[43mDiv_num_1\u001b[49m\u001b[43m(\u001b[49m\u001b[38;5;241;43m10\u001b[39;49m\u001b[43m,\u001b[49m\u001b[38;5;241;43m0\u001b[39;49m\u001b[43m)\u001b[49m \u001b[38;5;66;03m# this will cause an unhandled exception and terminate the program\u001b[39;00m\n",
      "Cell \u001b[0;32mIn[6], line 2\u001b[0m, in \u001b[0;36mDiv_num_1\u001b[0;34m(N1, N2)\u001b[0m\n\u001b[1;32m      1\u001b[0m \u001b[38;5;28;01mdef\u001b[39;00m \u001b[38;5;21mDiv_num_1\u001b[39m(N1,N2):\n\u001b[0;32m----> 2\u001b[0m     result\u001b[38;5;241m=\u001b[39m \u001b[43mN1\u001b[49m\u001b[38;5;241;43m/\u001b[39;49m\u001b[43mN2\u001b[49m\n\u001b[1;32m      3\u001b[0m     \u001b[38;5;28mprint\u001b[39m(\u001b[38;5;124m\"\u001b[39m\u001b[38;5;124mResult\u001b[39m\u001b[38;5;124m\"\u001b[39m,result)\n",
      "\u001b[0;31mZeroDivisionError\u001b[0m: division by zero"
     ]
    }
   ],
   "source": [
    "def Div_num_1(N1,N2):\n",
    "    result= N1/N2\n",
    "    print(\"Result\",result)\n",
    "\n",
    "# Example 2: not handling the exception\n",
    "Div_num_1(10,0) # this will cause an unhandled exception and terminate the program"
   ]
  },
  {
   "cell_type": "markdown",
   "id": "568d3753-907e-4887-87ec-5767ab65c6bc",
   "metadata": {},
   "source": [
    "Q3. Which Python statements are used to catch and handle exceptions? Explain with an example."
   ]
  },
  {
   "cell_type": "markdown",
   "id": "f2dedd2b-12f8-4501-8b5b-576f42e9e907",
   "metadata": {},
   "source": [
    "Solution :\n",
    "    \n",
    "    1. The try block enclose the code where an exception might occure \n",
    "    2. The except block contain the code that is executed if a specific exception occure\n",
    "    within the try block \n",
    "    "
   ]
  },
  {
   "cell_type": "code",
   "execution_count": 7,
   "id": "8e3c15f8-c2a9-4e74-9432-fad0ffa201df",
   "metadata": {},
   "outputs": [
    {
     "name": "stdout",
     "output_type": "stream",
     "text": [
      "Result 5.0\n",
      "Error : Division by Zero\n"
     ]
    }
   ],
   "source": [
    "# Example:\n",
    "\n",
    "def Div_num(N1,N2):\n",
    "    try:\n",
    "        result= N1/N2\n",
    "        print(\"Result\",result)\n",
    "    except ZeroDivisionError:\n",
    "        print(\"Error : Division by Zero\")\n",
    "\n",
    "#Example 1 : Handling the exception \n",
    "Div_num(10,2) #output :5.0\n",
    "Div_num(10,0) #ouput: Division by zero    \n",
    "    "
   ]
  },
  {
   "cell_type": "code",
   "execution_count": 9,
   "id": "2838de66-db3b-4580-9e3b-3a245a5877ae",
   "metadata": {},
   "outputs": [
    {
     "name": "stdout",
     "output_type": "stream",
     "text": [
      "Result 5.0\n",
      "Error : Invalid Input, Please Enter valid number\n",
      "Error : Division by Zero\n"
     ]
    }
   ],
   "source": [
    "# Example:\n",
    "\n",
    "def example_multiple(value):\n",
    "    try:\n",
    "        result= 10/int(value)\n",
    "        print(\"Result\",result)\n",
    "    except ValueError:\n",
    "        print(\"Error : Invalid Input, Please Enter valid number\")\n",
    "    except ZeroDivisionError:\n",
    "        print(\"Error : Division by Zero\")\n",
    "\n",
    "#Example : Handling multiple exception at a time :\n",
    "example_multiple(\"2\") #output :2.0\n",
    "example_multiple(\"abc\") #ouput: \"Error : Invalid Input, Please Enter valid number\"\n",
    "example_multiple(\"0\") # Output :Error : Division by Zero"
   ]
  },
  {
   "cell_type": "markdown",
   "id": "155531fd-45b2-4df7-8c07-4e06195c0705",
   "metadata": {},
   "source": [
    "Q4. Explain with an example:\n",
    "    \n",
    "    a. try and else\n",
    "    b. finally\n",
    "    c. raise"
   ]
  },
  {
   "cell_type": "markdown",
   "id": "628711f9-b56e-45b7-9c7a-027e23f1c9a6",
   "metadata": {},
   "source": [
    "Solution:"
   ]
  },
  {
   "cell_type": "code",
   "execution_count": 14,
   "id": "6bbffd2d-d584-4b81-931c-ed473f91b291",
   "metadata": {},
   "outputs": [
    {
     "name": "stdout",
     "output_type": "stream",
     "text": [
      "Result: 5.0\n",
      "Error:ZeroDivisionError\n"
     ]
    }
   ],
   "source": [
    "# a. try and else example with explanation:\n",
    "\n",
    "def div_number(N1,N2):\n",
    "    try:\n",
    "        result= N1/N2\n",
    "    except ZeroDivisionError:\n",
    "        print(\"Error:ZeroDivisionError\")\n",
    "    else:\n",
    "        print(\"Result:\",result) # this code will execute when try block run succesfully\n",
    "\n",
    "#Example \n",
    "div_number(10,2) # output : Result:5.0\n",
    "div_number(10,0) # Output : Error : Division by zero "
   ]
  },
  {
   "cell_type": "code",
   "execution_count": 16,
   "id": "e872c306-256e-40c0-81a4-afd2c2f6d5d3",
   "metadata": {},
   "outputs": [
    {
     "name": "stdout",
     "output_type": "stream",
     "text": [
      "Result: 2.0\n",
      "Execution Completed\n",
      "Error: Division by Zero\n",
      "Execution Completed\n"
     ]
    }
   ],
   "source": [
    "# b. finally:\n",
    "\n",
    "def Div_num(N1,N2):\n",
    "    try:\n",
    "        result= N1/N2\n",
    "        print(\"Result:\",result)\n",
    "    except ZeroDivisionError:\n",
    "        print(\"Error: Division by Zero\")\n",
    "    finally:\n",
    "        print(\"Execution Completed\")\n",
    "\n",
    "Div_num(10,5) #Output: Result : 2.0 \\n Execution completed \n",
    "Div_num(10,0) #output : Error: Division by Zero \\n  Execution completed "
   ]
  },
  {
   "cell_type": "code",
   "execution_count": 18,
   "id": "b3d37c93-8d46-4825-b69b-16c7dd266476",
   "metadata": {},
   "outputs": [
    {
     "name": "stdout",
     "output_type": "stream",
     "text": [
      "Error Age can't be -ve\n"
     ]
    }
   ],
   "source": [
    "#c. raise :\n",
    "\n",
    "def check_age(age):\n",
    "    if age <0:\n",
    "        raise ValueError(\"Age can't be -ve\")\n",
    "    elif age <18:\n",
    "        print(\"You are a minor\")\n",
    "    else:\n",
    "        print(\"You are an Adult\")\n",
    "\n",
    "try:\n",
    "    check_age(-5) # this weill raise ValueError\n",
    "except ValueError as e:\n",
    "    print(f\"Error\",e)"
   ]
  },
  {
   "cell_type": "markdown",
   "id": "83089135-c2f0-495f-b1d6-b466f47f7868",
   "metadata": {},
   "source": [
    "Q5. What are Custom Exceptions in python? Why do we need Custom Exceptions? Explain with an example."
   ]
  },
  {
   "cell_type": "markdown",
   "id": "e926b3e4-e511-482e-a08e-2b17faec1b45",
   "metadata": {},
   "source": [
    "Solution:"
   ]
  },
  {
   "cell_type": "markdown",
   "id": "cea0a640-a7da-4e3d-bb36-8360ef0e70d9",
   "metadata": {},
   "source": [
    "1. def -: Custom exceptions are user defined exception classes created by programmers.\n",
    "2. purpose-: they are created to handle specific error or exceptional situation in code.\n",
    "3. why needed:\n",
    "      \n",
    "      1. Enhance clarity and readability in code \n",
    "      2. promote modularity and seperation of concerns \n",
    "      3. simplify maintanance by providing a centralized way to handle specific error condition.\n",
    "      \n",
    "4. Benifits:\n",
    "\n",
    "        1. improve code readability and maintainability \n",
    "        2. provide a clear structure for handling specific type of error.\n",
    "        3. enable expressive error message for better understanding.\n"
   ]
  },
  {
   "cell_type": "code",
   "execution_count": 10,
   "id": "b3437cda-ec6f-4a62-bcfd-782335461e47",
   "metadata": {},
   "outputs": [
    {
     "name": "stdout",
     "output_type": "stream",
     "text": [
      "Custom Error : Empty data recived\n"
     ]
    }
   ],
   "source": [
    "# Example :custom  exception class defination:\n",
    "class CustomError(Exception):\n",
    "    \"\"\"\"custom exceptions for specific eerror condition .\"\"\"\n",
    "    def __init__(self,message):\n",
    "        super().__init__(message)\n",
    "def process_data(data):\n",
    "    if not data:\n",
    "        raise CustomError(\"Empty data recived\")\n",
    "    # processign logic here \n",
    "# Example\n",
    "try:\n",
    "    input_data=[]\n",
    "    process_data(input_data)\n",
    "except CustomError as ce:\n",
    "    print(f\"Custom Error :\", ce)\n",
    "else:\n",
    "    print(\"Data processing successful.\",input_data)\n",
    "        "
   ]
  },
  {
   "cell_type": "markdown",
   "id": "978a1bd4-4412-4fc7-9848-94a1e6c43be9",
   "metadata": {},
   "source": [
    "Q6. Create a custom exception class. Use this class to handle an exception."
   ]
  },
  {
   "cell_type": "code",
   "execution_count": 25,
   "id": "b9dd6861-ddae-4eb6-948c-028bc7333a25",
   "metadata": {},
   "outputs": [
    {
     "name": "stdin",
     "output_type": "stream",
     "text": [
      "Enter Yout Age :  -99\n"
     ]
    },
    {
     "name": "stdout",
     "output_type": "stream",
     "text": [
      "Error : Invalid age :-99. age must be positive integer \n"
     ]
    }
   ],
   "source": [
    "class InvalidAgeError(Exception):\n",
    "    \"\"\"Custom exception for handling invalid age.\"\"\"\n",
    "    def __init__(self,age):\n",
    "        self.age=age\n",
    "        super().__init__(f\"Invalid age :{age}. age must be positive integer \")\n",
    "        \n",
    "class Limit_age(Exception):\n",
    "    \"\"\"Custom exception for handling invalid age.\"\"\"\n",
    "    def __init__(self,age):\n",
    "        self.age=age\n",
    "        super().__init__(f\"Invalid age :{age}. age must be in limit exceeded limit of higher range\")\n",
    "        \n",
    "def process_age(age):\n",
    "    if not isinstance(age,int) or age<=0 :\n",
    "        raise InvalidAgeError(age)\n",
    "    elif not isinstance(age,int) or age >=101:\n",
    "        raise Limit_age(age)\n",
    "    else:\n",
    "        print(f\"Processing Age,{age}\")\n",
    "\n",
    "#Example of using the custom exception \n",
    "try:\n",
    "    user_age= int(input(\"Enter Yout Age : \"))\n",
    "    process_age(user_age)\n",
    "except InvalidAgeError as iae:\n",
    "    print(f\"Error :\",iae)\n",
    "except Limit_age as la:\n",
    "    print(f\"Error \",la)\n",
    "except ValueError:\n",
    "    print(\"Error : Please Enter a valid integer for age .\")"
   ]
  }
 ],
 "metadata": {
  "kernelspec": {
   "display_name": "Python 3 (ipykernel)",
   "language": "python",
   "name": "python3"
  },
  "language_info": {
   "codemirror_mode": {
    "name": "ipython",
    "version": 3
   },
   "file_extension": ".py",
   "mimetype": "text/x-python",
   "name": "python",
   "nbconvert_exporter": "python",
   "pygments_lexer": "ipython3",
   "version": "3.10.8"
  }
 },
 "nbformat": 4,
 "nbformat_minor": 5
}
