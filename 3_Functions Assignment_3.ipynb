{
 "cells": [
  {
   "cell_type": "raw",
   "id": "b4032873-9def-4b7b-9533-f11ca9c84c5c",
   "metadata": {},
   "source": [
    "Q1. Which keyword is used to create a function? Create a function to return a list of odd numbers in the range of 1 to 25.\n",
    "Q2. Why *args and **kwargs is used in some functions? Create a function each for *args and **kwargs to demonstrate their use.\n",
    "Q3. What is an iterator in python? Name the method used to initialise the iterator object and the method used for iteration. Use these methods to print the first five elements of the given list [2, 4, 6, 8, 10, 12, 14, 16,18, 20].\n",
    "Q4. What is a generator function in python? Why yield keyword is used? Give an example of a generator function.\n",
    "Q5. Create a generator function for prime numbers less than 1000. Use the next() method to print the first 20 prime numbers."
   ]
  },
  {
   "cell_type": "markdown",
   "id": "f0af07c9-7be5-42df-b687-b2fdd092d246",
   "metadata": {},
   "source": [
    "Q1. Which keyword is used to create a function? Create a function to return a list of odd numbers in the range of 1 to 25."
   ]
  },
  {
   "cell_type": "markdown",
   "id": "1484507b-e462-41c1-b9ec-53305f0d5a2e",
   "metadata": {},
   "source": [
    "Solution:"
   ]
  },
  {
   "cell_type": "code",
   "execution_count": 10,
   "id": "d52c2909-8f26-44c3-be34-acf60f67f3dc",
   "metadata": {},
   "outputs": [],
   "source": [
    "# 1.Keyword for function defination is def\n",
    "\n",
    "def function_name():\n",
    "    x=10"
   ]
  },
  {
   "cell_type": "code",
   "execution_count": 1,
   "id": "9951b307-20a8-4058-b8f6-02f2b9ccda5a",
   "metadata": {},
   "outputs": [
    {
     "name": "stdout",
     "output_type": "stream",
     "text": [
      "[1, 3, 5, 7, 9, 11, 13, 15, 17, 19, 21, 23, 25]\n"
     ]
    }
   ],
   "source": [
    "# Create a function to return a list of odd numbers in the range of 1 to 25.\n",
    "\n",
    "def odd_number():\n",
    "    odd_number=[num for num in range (1,26) if num%2!=0 ] #imp\n",
    "    return odd_number\n",
    "result=odd_number()\n",
    "print(result)"
   ]
  },
  {
   "cell_type": "markdown",
   "id": "650b07c7-1897-4abf-8365-98edaf243dc2",
   "metadata": {},
   "source": [
    "Q2. Why *args and **kwargs is used in some functions? Create a function each for *args and **kwargs to demonstrate their use."
   ]
  },
  {
   "cell_type": "markdown",
   "id": "d843d036-8ef7-4e82-8ac7-e3bf8c4fcc27",
   "metadata": {},
   "source": [
    "Solution:"
   ]
  },
  {
   "cell_type": "code",
   "execution_count": 3,
   "id": "367e3b97-5735-4cdd-a01a-08adc5be61b9",
   "metadata": {},
   "outputs": [
    {
     "data": {
      "text/plain": [
       "' This feature provide flexiblity when defining function and can handle variable \\nnumber of arguments '"
      ]
     },
     "execution_count": 3,
     "metadata": {},
     "output_type": "execute_result"
    }
   ],
   "source": [
    "\"\"\" 1. *args allow a function to accept any number of positional argument\n",
    "and it collect them into a tuple \"\"\"\n",
    "\"\"\" 2. **kwargs allow a function to accept any number of keyword arguments and\n",
    "it collect them into dictionary \"\"\"\n",
    "\n",
    "\"\"\" This feature provide flexiblity when defining function and can handle variable \n",
    "number of arguments \"\"\""
   ]
  },
  {
   "cell_type": "code",
   "execution_count": 4,
   "id": "6fa3e12a-782a-463b-8f27-fe3785b8546c",
   "metadata": {},
   "outputs": [
    {
     "name": "stdout",
     "output_type": "stream",
     "text": [
      "15\n"
     ]
    }
   ],
   "source": [
    "# *args example:\n",
    "def sum_all(*args):\n",
    "    result=0\n",
    "    for num in args:\n",
    "        result+=num\n",
    "    return result\n",
    "\n",
    "result=sum_all(1,2,3,4,5)\n",
    "print(result)"
   ]
  },
  {
   "cell_type": "code",
   "execution_count": 6,
   "id": "3f3e7aad-25d4-4e0f-84da-098f17f78990",
   "metadata": {},
   "outputs": [
    {
     "name": "stdout",
     "output_type": "stream",
     "text": [
      "name : shubham\n",
      "age : 28\n",
      "city : Navi Mumbai\n"
     ]
    }
   ],
   "source": [
    "# **kwargs example:\n",
    "def print_kwargs(**kwargs):\n",
    "    for key,value in kwargs.items():\n",
    "        print(f\"{key} : {value}\")\n",
    "        \n",
    "print_kwargs(name=\"shubham\",age =\"28\", city=\"Navi Mumbai\") # kewords dictionary\n"
   ]
  },
  {
   "cell_type": "markdown",
   "id": "be0430a3-72e3-43bb-a1dc-9d23763035b9",
   "metadata": {},
   "source": [
    "Q3. What is an iterator in python? Name the method used to initialise the iterator object and the method used for iteration. Use these methods to print the first five elements of the given list [2, 4, 6, 8, 10, 12, 14, 16,18, 20].Q3. What is an iterator in python? Name the method used to initialise the iterator object and the method"
   ]
  },
  {
   "cell_type": "markdown",
   "id": "5271921a-9036-40b8-aea9-153bec4a9483",
   "metadata": {},
   "source": [
    "Solution:"
   ]
  },
  {
   "cell_type": "markdown",
   "id": "dcb75feb-ab61-47e8-84a6-937a651d2489",
   "metadata": {},
   "source": [
    "    2.Iterator implement 2 method:\n",
    "        1.'__iter__()' method is called when an iterator object is created.\n",
    "        It should return the iterator object it self.\n",
    "        this method is required for an object to be considered an iterator.\n",
    "    \n",
    "            \n",
    "        2.'__next__()' method is called to get the next element in the sequence.\n",
    "        It should raise the \"StopIteration\" exception when there are\n",
    "        no more element to return\n",
    "        "
   ]
  },
  {
   "cell_type": "code",
   "execution_count": 12,
   "id": "4d1e899f-98af-4d25-b996-9f273fbb7a59",
   "metadata": {},
   "outputs": [
    {
     "name": "stdout",
     "output_type": "stream",
     "text": [
      "2\n",
      "4\n",
      "6\n",
      "8\n",
      "10\n"
     ]
    }
   ],
   "source": [
    "class MyIterator:\n",
    "    def __init__(self,data):\n",
    "        self.data=data\n",
    "        self.index=0\n",
    "    def __iter__(self):\n",
    "        return self\n",
    "    \n",
    "    def __next__(self):\n",
    "        if self.index < len (self.data):\n",
    "            result=self.data[self.index]\n",
    "            self.index+=1\n",
    "            return result\n",
    "        else:\n",
    "            raise StopIteration\n",
    "\n",
    "\n",
    "            \n",
    "#Create an iterator bject:\n",
    "\n",
    "my_list=[2, 4, 6, 8, 10, 12, 14, 16, 18, 20]\n",
    "my_iterator =MyIterator(my_list)\n",
    "            \n",
    "\n",
    "#Iterare using the iterator and print the first five element\n",
    "for i in range(5):\n",
    "    print(next(my_iterator))"
   ]
  },
  {
   "cell_type": "markdown",
   "id": "fa9cf655-c7a1-4f80-a8e7-8bdc165127b8",
   "metadata": {},
   "source": [
    "Q4. What is a generator function in python? Why yield keyword is used? Give an example of a generator function."
   ]
  },
  {
   "cell_type": "markdown",
   "id": "b06ddba8-c70b-428b-b2d0-e4e5e9301af4",
   "metadata": {},
   "source": [
    "Solution"
   ]
  },
  {
   "cell_type": "markdown",
   "id": "67b2408d-fcc5-460e-93fb-f1864b98b0b3",
   "metadata": {},
   "source": [
    "* . Generator Function:\n",
    "    1. Generator Function is special type of function in python.\n",
    "    2. It allow the creater to iterate in concise and memroy -efficient manner\n",
    "* . yield Keyword \n",
    "    1. Instead of using return to send a value and terminal function, generator \n",
    "    function use the yield keyword.\n",
    "    2. yield suspends the function's state ,allowing it to be resumed later\n",
    "* . Lazy Evaluation :\n",
    "    1. Value are generated one at a time ,on demand as opposed to generating the entire \n",
    "    sequence upfront.\n",
    "    \n",
    "    2.this approch is benificial for large data set or where memory efficiency is crucial."
   ]
  },
  {
   "cell_type": "code",
   "execution_count": 24,
   "id": "171dbf9e-da9a-4220-ad2d-c5f4b673d34a",
   "metadata": {},
   "outputs": [
    {
     "name": "stdout",
     "output_type": "stream",
     "text": [
      "1\n",
      "4\n",
      "9\n",
      "16\n"
     ]
    }
   ],
   "source": [
    "def square_number_up_to(limit):\n",
    "    number=1\n",
    "    while abs(number )<=abs(limit):\n",
    "        yield number *number\n",
    "        number+=1\n",
    "\n",
    "#using the generator function\n",
    "for i in square_number_up_to(4):\n",
    "    print (i)\n",
    "        "
   ]
  },
  {
   "cell_type": "markdown",
   "id": "c66a12b7-597a-4496-b0ce-9b5ec2038a78",
   "metadata": {},
   "source": [
    "Q5. Create a generator function for prime numbers less than 1000. Use the next() method to print the first 20 prime numbers."
   ]
  },
  {
   "cell_type": "code",
   "execution_count": 28,
   "id": "feff6066-ce7d-4643-ad88-5075a6dfcbc7",
   "metadata": {},
   "outputs": [
    {
     "name": "stdout",
     "output_type": "stream",
     "text": [
      "13\n",
      "17\n",
      "19\n",
      "23\n",
      "29\n",
      "31\n",
      "37\n",
      "41\n",
      "43\n",
      "47\n"
     ]
    }
   ],
   "source": [
    "def is_prime(number):\n",
    "    if number <2:\n",
    "        return False \n",
    "    for i in range (2,int (number **0.5)+10):\n",
    "        if number %i==0:\n",
    "            return False \n",
    "    return True\n",
    "def generater_primes():\n",
    "    number=2\n",
    "    while True:\n",
    "        if is_prime(number):\n",
    "            yield number \n",
    "        number+=1\n",
    "# using generator function to print the first 20 prime number \n",
    "\n",
    "primes_generator = generater_primes()\n",
    "\n",
    "for _ in range (10):\n",
    "    print(next(primes_generator))"
   ]
  }
 ],
 "metadata": {
  "kernelspec": {
   "display_name": "Python 3 (ipykernel)",
   "language": "python",
   "name": "python3"
  },
  "language_info": {
   "codemirror_mode": {
    "name": "ipython",
    "version": 3
   },
   "file_extension": ".py",
   "mimetype": "text/x-python",
   "name": "python",
   "nbconvert_exporter": "python",
   "pygments_lexer": "ipython3",
   "version": "3.10.8"
  }
 },
 "nbformat": 4,
 "nbformat_minor": 5
}
