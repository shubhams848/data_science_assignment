{
 "cells": [
  {
   "cell_type": "raw",
   "id": "14e13faf-1443-4750-95ae-20b775ff9ae0",
   "metadata": {},
   "source": [
    "Q1. Create one variable containing following type of data:\n",
    "(i) string\n",
    "(ii) list\n",
    "(iii) float\n",
    "(iv) tuple"
   ]
  },
  {
   "cell_type": "code",
   "execution_count": 1,
   "id": "6610dd9d-9aee-45cc-86ed-27b66274a429",
   "metadata": {},
   "outputs": [],
   "source": [
    "#Solution"
   ]
  },
  {
   "cell_type": "code",
   "execution_count": 2,
   "id": "a035e244-e816-4bd7-a082-df5c0b578bb8",
   "metadata": {},
   "outputs": [],
   "source": [
    "#Defining Variable \n",
    "a=[\"Shubham\",[99,33,44],99.99,(77,89,99)]"
   ]
  },
  {
   "cell_type": "code",
   "execution_count": 3,
   "id": "7ac49d2f-e133-41c7-a8ed-a97326749602",
   "metadata": {},
   "outputs": [
    {
     "data": {
      "text/plain": [
       "str"
      ]
     },
     "execution_count": 3,
     "metadata": {},
     "output_type": "execute_result"
    }
   ],
   "source": [
    "type(a[0])"
   ]
  },
  {
   "cell_type": "code",
   "execution_count": 4,
   "id": "85faaedb-e157-4f57-873a-dfb96130c184",
   "metadata": {},
   "outputs": [
    {
     "data": {
      "text/plain": [
       "list"
      ]
     },
     "execution_count": 4,
     "metadata": {},
     "output_type": "execute_result"
    }
   ],
   "source": [
    "type(a[1])"
   ]
  },
  {
   "cell_type": "code",
   "execution_count": 5,
   "id": "28347c94-8e42-4e9f-b713-fab6a12e1e0f",
   "metadata": {},
   "outputs": [
    {
     "data": {
      "text/plain": [
       "float"
      ]
     },
     "execution_count": 5,
     "metadata": {},
     "output_type": "execute_result"
    }
   ],
   "source": [
    "type(a[2])"
   ]
  },
  {
   "cell_type": "code",
   "execution_count": 6,
   "id": "70226a4e-1a28-45f0-b959-e45576284c8c",
   "metadata": {},
   "outputs": [
    {
     "data": {
      "text/plain": [
       "tuple"
      ]
     },
     "execution_count": 6,
     "metadata": {},
     "output_type": "execute_result"
    }
   ],
   "source": [
    "type(a[3])"
   ]
  },
  {
   "cell_type": "raw",
   "id": "036c797a-0b00-4683-8aad-2c443db5ca2e",
   "metadata": {},
   "source": [
    "Q2. Given are some following variables containing data:\n",
    "(i) var1 = ‘ ‘\n",
    "(ii) var2 = ‘[ DS , ML , Python]’\n",
    "(iii) var3 = [ ‘DS’ , ’ML’ , ‘Python’ ]\n",
    "(iv) var4 = 1.\n",
    "What will be the data type of the above given variable."
   ]
  },
  {
   "cell_type": "code",
   "execution_count": 7,
   "id": "21b9caa4-dd0a-41c8-85fd-44fb2e18e94a",
   "metadata": {},
   "outputs": [],
   "source": [
    "#Solution "
   ]
  },
  {
   "cell_type": "code",
   "execution_count": 8,
   "id": "b9e3e767-fe24-4371-95d9-d9edff8a4a94",
   "metadata": {},
   "outputs": [],
   "source": [
    "var1 = ' '\n",
    "var2 = '[ DS , ML , Python]'\n",
    "var3 = [ 'DS' , 'ML' , 'Python' ]\n",
    "var4 = 1."
   ]
  },
  {
   "cell_type": "code",
   "execution_count": 9,
   "id": "1632b41c-a8c8-4d8c-af37-af8a9aa63ea9",
   "metadata": {},
   "outputs": [
    {
     "data": {
      "text/plain": [
       "str"
      ]
     },
     "execution_count": 9,
     "metadata": {},
     "output_type": "execute_result"
    }
   ],
   "source": [
    "type(var1)"
   ]
  },
  {
   "cell_type": "code",
   "execution_count": 10,
   "id": "1171bb13-eb6c-4221-823e-fad53868bdb9",
   "metadata": {},
   "outputs": [
    {
     "data": {
      "text/plain": [
       "str"
      ]
     },
     "execution_count": 10,
     "metadata": {},
     "output_type": "execute_result"
    }
   ],
   "source": [
    "type(var2)"
   ]
  },
  {
   "cell_type": "code",
   "execution_count": 11,
   "id": "b97750d5-d5dd-466b-8995-d85b14437a4d",
   "metadata": {},
   "outputs": [
    {
     "data": {
      "text/plain": [
       "list"
      ]
     },
     "execution_count": 11,
     "metadata": {},
     "output_type": "execute_result"
    }
   ],
   "source": [
    "type(var3)"
   ]
  },
  {
   "cell_type": "code",
   "execution_count": 12,
   "id": "297f597b-7a75-43d7-91da-409cbfd502e4",
   "metadata": {},
   "outputs": [
    {
     "data": {
      "text/plain": [
       "float"
      ]
     },
     "execution_count": 12,
     "metadata": {},
     "output_type": "execute_result"
    }
   ],
   "source": [
    "type(var4)"
   ]
  },
  {
   "cell_type": "raw",
   "id": "104d4e43-722e-4cf6-90f0-552dfb536dca",
   "metadata": {},
   "source": [
    "Q3. Explain the use of the following operators using an example:\n",
    "(i) /\n",
    "(ii) %\n",
    "(iii) //\n",
    "(iv) **"
   ]
  },
  {
   "cell_type": "code",
   "execution_count": 13,
   "id": "04d72b01-7d39-458f-bef3-13e16fa8aa32",
   "metadata": {},
   "outputs": [],
   "source": [
    "# Solution "
   ]
  },
  {
   "cell_type": "code",
   "execution_count": 14,
   "id": "be1d4444-b362-4abb-bf60-9cf65134ac7a",
   "metadata": {},
   "outputs": [
    {
     "name": "stdout",
     "output_type": "stream",
     "text": [
      "0.5\n"
     ]
    }
   ],
   "source": [
    "#1 division\n",
    "a=100\n",
    "b=200\n",
    "c=a/b\n",
    "print(c)"
   ]
  },
  {
   "cell_type": "code",
   "execution_count": 15,
   "id": "f96b5564-e253-467c-b1bf-540d2d5c02d7",
   "metadata": {},
   "outputs": [
    {
     "name": "stdout",
     "output_type": "stream",
     "text": [
      "100\n"
     ]
    }
   ],
   "source": [
    "#2 Modulus\n",
    "a=100\n",
    "b=200\n",
    "c=a%b\n",
    "print(c)"
   ]
  },
  {
   "cell_type": "code",
   "execution_count": 16,
   "id": "4e70265f-ecea-4247-9444-e9e71a6b4f5e",
   "metadata": {},
   "outputs": [
    {
     "name": "stdout",
     "output_type": "stream",
     "text": [
      "5\n"
     ]
    }
   ],
   "source": [
    "#3 Floor division\t\n",
    "a=100\n",
    "b=20\n",
    "c=a//b\n",
    "print(c)"
   ]
  },
  {
   "cell_type": "code",
   "execution_count": 17,
   "id": "5272834a-d474-429f-90ac-842a7c6609ec",
   "metadata": {},
   "outputs": [
    {
     "name": "stdout",
     "output_type": "stream",
     "text": [
      "100\n"
     ]
    }
   ],
   "source": [
    "#4 Exponentiation\n",
    "a=10\n",
    "b=2\n",
    "c=a**b\n",
    "print(c)"
   ]
  },
  {
   "cell_type": "raw",
   "id": "b6362135-0617-4f8b-a56f-0c83ac7c97a4",
   "metadata": {},
   "source": [
    "Q4. Create a list of length 10 of your choice containing multiple types of data. Using for loop print the\n",
    "element and its data type."
   ]
  },
  {
   "cell_type": "code",
   "execution_count": 18,
   "id": "e86d3883-2d6f-48f0-bc38-82c1feae9a47",
   "metadata": {},
   "outputs": [],
   "source": [
    "l=[\"shubham\",99.99,100,[99,1,0],(12,3,4),9+3j,{1,2,33,44},2,{1:22,2:33}]"
   ]
  },
  {
   "cell_type": "code",
   "execution_count": 19,
   "id": "3d6259ff-4e63-48ff-8f14-aff169aa3803",
   "metadata": {},
   "outputs": [
    {
     "data": {
      "text/plain": [
       "{1, 2, 33, 44}"
      ]
     },
     "execution_count": 19,
     "metadata": {},
     "output_type": "execute_result"
    }
   ],
   "source": [
    "l[-3]"
   ]
  },
  {
   "cell_type": "raw",
   "id": "26852749-6a91-4cf2-b342-926d7710c64b",
   "metadata": {},
   "source": [
    "Q5. Using a while loop, verify if the number A is purely divisible by number B and if so then how many\n",
    "times it can be divisible."
   ]
  },
  {
   "cell_type": "code",
   "execution_count": 1,
   "id": "0ec75880-0d03-4058-8668-f876e4a4b370",
   "metadata": {},
   "outputs": [
    {
     "name": "stdout",
     "output_type": "stream",
     "text": [
      "250.0\n",
      "125.0\n",
      "2\n"
     ]
    }
   ],
   "source": [
    "A=500\n",
    "B=2\n",
    "j=0\n",
    "while A%B==0:\n",
    "    A=A/B\n",
    "    print(A)\n",
    "    j=j+1\n",
    "    # break\n",
    "print(j)\n",
    "    "
   ]
  },
  {
   "cell_type": "raw",
   "id": "05b01057-9e40-41f1-9e47-d114b9a48e47",
   "metadata": {},
   "source": [
    "Q6. Create a list containing 25 int type data. Using for loop and if-else condition print if the element is\n",
    "divisible by 3 or not."
   ]
  },
  {
   "cell_type": "code",
   "execution_count": 34,
   "id": "dfd7c971-cdd1-48cf-9524-d1a734b3bdbd",
   "metadata": {},
   "outputs": [
    {
     "name": "stdout",
     "output_type": "stream",
     "text": [
      "1 not divisible by 3\n",
      "2 not divisible by 3\n",
      "3 divisible by 3\n",
      "4 not divisible by 3\n",
      "5 not divisible by 3\n",
      "6 divisible by 3\n",
      "7 not divisible by 3\n",
      "8 not divisible by 3\n",
      "9 divisible by 3\n",
      "10 not divisible by 3\n",
      "11 not divisible by 3\n",
      "12 divisible by 3\n",
      "13 not divisible by 3\n",
      "14 not divisible by 3\n",
      "15 divisible by 3\n",
      "16 not divisible by 3\n",
      "17 not divisible by 3\n",
      "18 divisible by 3\n",
      "19 not divisible by 3\n",
      "20 not divisible by 3\n",
      "21 divisible by 3\n",
      "22 not divisible by 3\n",
      "23 not divisible by 3\n",
      "24 divisible by 3\n",
      "25 not divisible by 3\n"
     ]
    }
   ],
   "source": [
    "l=list(range(1,26))\n",
    "for i in l:\n",
    "    # print(i)\n",
    "    if i%3==0:\n",
    "        print(i,\"divisible by 3\")\n",
    "    else:\n",
    "        print(i,\"not divisible by 3\")"
   ]
  },
  {
   "cell_type": "raw",
   "id": "ae0516f5-8ea5-486a-805d-54f2ca3e1f78",
   "metadata": {},
   "source": [
    "Q7. What do you understand about mutable and immutable data types? Give examples for both showing this property."
   ]
  },
  {
   "cell_type": "markdown",
   "id": "8eab2ad5-a00d-4c87-816b-124f5c0a28ea",
   "metadata": {},
   "source": [
    "### Solution\n",
    "###### Immutable : Object can not be modified after the creation as well.\n",
    "Example: string ,Tuple ,int, numbers etc.\n",
    "##### Mutable   : Object can be modified after the creation as well.\n",
    "Example: Lists,Dicts ,Sets ,Dict etc."
   ]
  },
  {
   "cell_type": "markdown",
   "id": "67a642b8-3a37-4a51-858d-0e4bcc7d7bdb",
   "metadata": {},
   "source": [
    "## Immutable example "
   ]
  },
  {
   "cell_type": "code",
   "execution_count": 35,
   "id": "45138f9d-b711-4367-b5f1-c38aa5c896bd",
   "metadata": {},
   "outputs": [],
   "source": [
    "l=\"shubham\" #example 1"
   ]
  },
  {
   "cell_type": "code",
   "execution_count": 38,
   "id": "bc294deb-b8c2-404d-8790-9a8a534404fe",
   "metadata": {},
   "outputs": [
    {
     "data": {
      "text/plain": [
       "'m'"
      ]
     },
     "execution_count": 38,
     "metadata": {},
     "output_type": "execute_result"
    }
   ],
   "source": [
    "l[6]"
   ]
  },
  {
   "cell_type": "code",
   "execution_count": 41,
   "id": "7edce8e2-88f9-4345-9181-99d0321885e8",
   "metadata": {},
   "outputs": [
    {
     "ename": "TypeError",
     "evalue": "'str' object does not support item assignment",
     "output_type": "error",
     "traceback": [
      "\u001b[0;31m---------------------------------------------------------------------------\u001b[0m",
      "\u001b[0;31mTypeError\u001b[0m                                 Traceback (most recent call last)",
      "Cell \u001b[0;32mIn[41], line 1\u001b[0m\n\u001b[0;32m----> 1\u001b[0m \u001b[43ml\u001b[49m\u001b[43m[\u001b[49m\u001b[38;5;241;43m6\u001b[39;49m\u001b[43m]\u001b[49m\u001b[38;5;241m=\u001b[39m\u001b[38;5;124m\"\u001b[39m\u001b[38;5;124md\u001b[39m\u001b[38;5;124m\"\u001b[39m\n",
      "\u001b[0;31mTypeError\u001b[0m: 'str' object does not support item assignment"
     ]
    }
   ],
   "source": [
    "l[6]=\"d\""
   ]
  },
  {
   "cell_type": "code",
   "execution_count": 43,
   "id": "632ded03-6fea-4edc-af3c-3e8be1617e97",
   "metadata": {},
   "outputs": [
    {
     "ename": "TypeError",
     "evalue": "'str' object does not support item assignment",
     "output_type": "error",
     "traceback": [
      "\u001b[0;31m---------------------------------------------------------------------------\u001b[0m",
      "\u001b[0;31mTypeError\u001b[0m                                 Traceback (most recent call last)",
      "Cell \u001b[0;32mIn[43], line 1\u001b[0m\n\u001b[0;32m----> 1\u001b[0m \u001b[43ml\u001b[49m\u001b[43m[\u001b[49m\u001b[38;5;241;43m6\u001b[39;49m\u001b[43m]\u001b[49m\u001b[38;5;241m=\u001b[39m\u001b[38;5;241m6\u001b[39m\n",
      "\u001b[0;31mTypeError\u001b[0m: 'str' object does not support item assignment"
     ]
    }
   ],
   "source": [
    "l[6]=6"
   ]
  },
  {
   "cell_type": "code",
   "execution_count": 45,
   "id": "084868a4-f15b-4a92-a020-ec9d894f09b9",
   "metadata": {},
   "outputs": [],
   "source": [
    "m=(1,2,22,66,\"shubham\",\"Hello\",33.33) #example 2"
   ]
  },
  {
   "cell_type": "code",
   "execution_count": 47,
   "id": "928f96eb-930c-4cc5-aa9b-688e994b173f",
   "metadata": {},
   "outputs": [
    {
     "data": {
      "text/plain": [
       "33.33"
      ]
     },
     "execution_count": 47,
     "metadata": {},
     "output_type": "execute_result"
    }
   ],
   "source": [
    "m[6]"
   ]
  },
  {
   "cell_type": "code",
   "execution_count": 49,
   "id": "849dcc14-cc27-4ff2-afbe-5adfb88757a8",
   "metadata": {},
   "outputs": [
    {
     "ename": "TypeError",
     "evalue": "'tuple' object does not support item assignment",
     "output_type": "error",
     "traceback": [
      "\u001b[0;31m---------------------------------------------------------------------------\u001b[0m",
      "\u001b[0;31mTypeError\u001b[0m                                 Traceback (most recent call last)",
      "Cell \u001b[0;32mIn[49], line 1\u001b[0m\n\u001b[0;32m----> 1\u001b[0m \u001b[43mm\u001b[49m\u001b[43m[\u001b[49m\u001b[38;5;241;43m6\u001b[39;49m\u001b[43m]\u001b[49m\u001b[38;5;241m=\u001b[39m\u001b[38;5;241m8\u001b[39m\n",
      "\u001b[0;31mTypeError\u001b[0m: 'tuple' object does not support item assignment"
     ]
    }
   ],
   "source": [
    "m[6]=8"
   ]
  },
  {
   "cell_type": "code",
   "execution_count": 58,
   "id": "bd53a41c-0523-465f-91ad-b2ddaccca87f",
   "metadata": {},
   "outputs": [],
   "source": [
    "i=999 #example 3"
   ]
  },
  {
   "cell_type": "code",
   "execution_count": 60,
   "id": "c85323eb-e032-4b45-917d-d2f1c8380efd",
   "metadata": {},
   "outputs": [
    {
     "ename": "TypeError",
     "evalue": "'int' object is not subscriptable",
     "output_type": "error",
     "traceback": [
      "\u001b[0;31m---------------------------------------------------------------------------\u001b[0m",
      "\u001b[0;31mTypeError\u001b[0m                                 Traceback (most recent call last)",
      "Cell \u001b[0;32mIn[60], line 1\u001b[0m\n\u001b[0;32m----> 1\u001b[0m \u001b[43mi\u001b[49m\u001b[43m[\u001b[49m\u001b[38;5;241;43m2\u001b[39;49m\u001b[43m]\u001b[49m\n",
      "\u001b[0;31mTypeError\u001b[0m: 'int' object is not subscriptable"
     ]
    }
   ],
   "source": [
    "i[2]"
   ]
  },
  {
   "cell_type": "markdown",
   "id": "08159466-4789-4acb-a9d4-2a2324903822",
   "metadata": {},
   "source": [
    "## Mutable example "
   ]
  },
  {
   "cell_type": "code",
   "execution_count": 62,
   "id": "ab203930-97cf-4b02-ab5b-e746b3eeb238",
   "metadata": {},
   "outputs": [],
   "source": [
    "list1=[12,33,44,[33,\"SHUBHAM\",66.66],89,99] #example 1"
   ]
  },
  {
   "cell_type": "code",
   "execution_count": 64,
   "id": "45f70cf8-f3ee-4923-8416-41c956de6819",
   "metadata": {},
   "outputs": [
    {
     "data": {
      "text/plain": [
       "[33, 'SHUBHAM', 66.66]"
      ]
     },
     "execution_count": 64,
     "metadata": {},
     "output_type": "execute_result"
    }
   ],
   "source": [
    "list1[3]"
   ]
  },
  {
   "cell_type": "code",
   "execution_count": 65,
   "id": "651a7f75-8c0f-4284-88f0-95680ac0de04",
   "metadata": {},
   "outputs": [],
   "source": [
    "list1[3]=\"new add\""
   ]
  },
  {
   "cell_type": "code",
   "execution_count": 67,
   "id": "960dc531-e834-42e3-93c1-a63237391971",
   "metadata": {},
   "outputs": [
    {
     "data": {
      "text/plain": [
       "[12, 33, 44, 'new add', 89, 99]"
      ]
     },
     "execution_count": 67,
     "metadata": {},
     "output_type": "execute_result"
    }
   ],
   "source": [
    "list1 "
   ]
  },
  {
   "cell_type": "code",
   "execution_count": 68,
   "id": "899b21ce-d543-4a10-b68e-143b5a0e5afe",
   "metadata": {},
   "outputs": [],
   "source": [
    "Dicts1={1:\"hello\",2:\"shubham\",3:88,4:\"new\",5:79.99}"
   ]
  },
  {
   "cell_type": "code",
   "execution_count": 72,
   "id": "484c3aa5-51ca-4611-b50e-268cccce61fb",
   "metadata": {},
   "outputs": [
    {
     "data": {
      "text/plain": [
       "'shubham'"
      ]
     },
     "execution_count": 72,
     "metadata": {},
     "output_type": "execute_result"
    }
   ],
   "source": [
    "Dicts1[2]"
   ]
  },
  {
   "cell_type": "code",
   "execution_count": 73,
   "id": "e9058c62-80ae-466a-b7d6-9d12e09bf73a",
   "metadata": {},
   "outputs": [],
   "source": [
    "Dicts1[2]=78.889"
   ]
  },
  {
   "cell_type": "code",
   "execution_count": 74,
   "id": "7fea7f21-5636-435d-9ff7-8ed736f0ce30",
   "metadata": {},
   "outputs": [
    {
     "data": {
      "text/plain": [
       "{1: 'hello', 2: 78.889, 3: 88, 4: 'new', 5: 79.99}"
      ]
     },
     "execution_count": 74,
     "metadata": {},
     "output_type": "execute_result"
    }
   ],
   "source": [
    "Dicts1"
   ]
  },
  {
   "cell_type": "code",
   "execution_count": 76,
   "id": "8496dae4-f4a5-49d9-b8b0-fdf1528e1587",
   "metadata": {},
   "outputs": [],
   "source": [
    "Dicts1[1]=87"
   ]
  },
  {
   "cell_type": "code",
   "execution_count": 77,
   "id": "e7241bb1-633a-4b4d-b2bf-d0d15a33080b",
   "metadata": {},
   "outputs": [
    {
     "data": {
      "text/plain": [
       "{1: 87, 2: 78.889, 3: 88, 4: 'new', 5: 79.99}"
      ]
     },
     "execution_count": 77,
     "metadata": {},
     "output_type": "execute_result"
    }
   ],
   "source": [
    "Dicts1"
   ]
  },
  {
   "cell_type": "code",
   "execution_count": 78,
   "id": "dfd4ea66-15cc-41fe-9211-cfd544230029",
   "metadata": {},
   "outputs": [],
   "source": [
    "Dicts1[4]=7"
   ]
  },
  {
   "cell_type": "code",
   "execution_count": 79,
   "id": "a297e582-a0ca-406f-9abf-bbeca6955f93",
   "metadata": {},
   "outputs": [
    {
     "data": {
      "text/plain": [
       "{1: 87, 2: 78.889, 3: 88, 4: 7, 5: 79.99}"
      ]
     },
     "execution_count": 79,
     "metadata": {},
     "output_type": "execute_result"
    }
   ],
   "source": [
    "Dicts1"
   ]
  },
  {
   "cell_type": "code",
   "execution_count": null,
   "id": "e721ce73-16c8-4da1-a5bb-bba3001e2b2d",
   "metadata": {},
   "outputs": [],
   "source": []
  }
 ],
 "metadata": {
  "kernelspec": {
   "display_name": "Python 3 (ipykernel)",
   "language": "python",
   "name": "python3"
  },
  "language_info": {
   "codemirror_mode": {
    "name": "ipython",
    "version": 3
   },
   "file_extension": ".py",
   "mimetype": "text/x-python",
   "name": "python",
   "nbconvert_exporter": "python",
   "pygments_lexer": "ipython3",
   "version": "3.10.8"
  }
 },
 "nbformat": 4,
 "nbformat_minor": 5
}
