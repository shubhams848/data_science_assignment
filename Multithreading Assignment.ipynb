{
 "cells": [
  {
   "cell_type": "markdown",
   "id": "0a90eb62-4d87-4a62-ae5f-14415a991dd1",
   "metadata": {},
   "source": [
    "## Q.1.what is multithreading in python? why is it used? Name the module used to handle threads in python"
   ]
  },
  {
   "cell_type": "markdown",
   "id": "b4f67b07-b277-4741-b8aa-c1c73b1c7e29",
   "metadata": {},
   "source": [
    "### Answer:\n",
    "### 1.Multithreading :\n",
    "1.Multithreading in Python allows multiple threads to run concurrently within a single process.A thread is the smallest unit of a program that can be executed independently.\n",
    "\n",
    "### 2.Use:\n",
    "1. Perform multiple tasks at the same time.\n",
    "2. Improve performance, especially in I/O-bound applications.\n",
    "3. Keep applications responsive, such as in graphical user interfaces.\n",
    "\n",
    "### 3.Model Use:\n",
    "The threading module is used to handle threads in Python."
   ]
  },
  {
   "cell_type": "code",
   "execution_count": 3,
   "id": "0f07d0c7-da97-4efe-8ab4-b19418a0ce53",
   "metadata": {},
   "outputs": [
    {
     "name": "stdout",
     "output_type": "stream",
     "text": [
      "0\n",
      "1\n",
      "2\n",
      "3\n",
      "4\n",
      "5\n",
      "6\n",
      "7\n",
      "8\n",
      "9\n"
     ]
    }
   ],
   "source": [
    "import threading\n",
    "\n",
    "def print_number():\n",
    "    for i in range(10):\n",
    "        print(i)\n",
    "    \n",
    "#creating a starting a thread\n",
    "thread=threading.Thread(target=print_number)\n",
    "thread.start()\n",
    "\n",
    "# Waiting for the thread to finish\n",
    "thread.join()"
   ]
  },
  {
   "cell_type": "markdown",
   "id": "ec3818c2-073b-4794-9eea-0d832294064f",
   "metadata": {},
   "source": [
    "## Q.2.Why threading module used? Write the use of the following functions:\n",
    "1.activeCount()\n",
    "\n",
    "2.currentThread()\n",
    "\n",
    "3.enumerate()"
   ]
  },
  {
   "cell_type": "markdown",
   "id": "5c6dbaf9-ac64-4c6a-b454-81e400688d94",
   "metadata": {},
   "source": [
    "## Answer\n",
    "## threading:\n",
    "\n",
    "threading module is used to create and mange multiple threads in python program . it makes it easier to perform multiple tasks at the same time , improving program efficiency and responsivness.\n",
    "\n",
    "## Use functions:"
   ]
  },
  {
   "cell_type": "code",
   "execution_count": 6,
   "id": "19a5119d-678e-4943-9dad-0f2e35041af7",
   "metadata": {},
   "outputs": [
    {
     "name": "stdout",
     "output_type": "stream",
     "text": [
      "Active thread count 8\n"
     ]
    },
    {
     "name": "stderr",
     "output_type": "stream",
     "text": [
      "/tmp/ipykernel_70/1270157222.py:7: DeprecationWarning: activeCount() is deprecated, use active_count() instead\n",
      "  print(\"Active thread count\",threading.activeCount())\n"
     ]
    }
   ],
   "source": [
    "## activeCount()\n",
    "\n",
    "##Purpoe: Return the number in active threads.\n",
    "\n",
    "import threading\n",
    "#get the number of active threads\n",
    "print(\"Active thread count\",threading.activeCount())"
   ]
  },
  {
   "cell_type": "code",
   "execution_count": 10,
   "id": "e3f3f932-b04e-4a5b-bdab-a1058fa092b4",
   "metadata": {},
   "outputs": [
    {
     "name": "stdout",
     "output_type": "stream",
     "text": [
      "Current thread MainThread\n"
     ]
    },
    {
     "name": "stderr",
     "output_type": "stream",
     "text": [
      "/tmp/ipykernel_70/378877796.py:9: DeprecationWarning: currentThread() is deprecated, use current_thread() instead\n",
      "  current_thread=threading.currentThread()\n"
     ]
    }
   ],
   "source": [
    "## currentThreading()\n",
    "\n",
    "##purpose: Return the current thread object\n",
    "\n",
    "import threading\n",
    "\n",
    "## get the current thread\n",
    "\n",
    "current_thread=threading.currentThread()\n",
    "print(\"Current thread\",current_thread.name)"
   ]
  },
  {
   "cell_type": "code",
   "execution_count": 1,
   "id": "aaae33d1-46fe-46b9-ad8e-7bdf2851a48d",
   "metadata": {},
   "outputs": [
    {
     "name": "stdout",
     "output_type": "stream",
     "text": [
      "All active Threads [<_MainThread(MainThread, started 140208631846720)>, <Thread(IOPub, started daemon 140208561317440)>, <Heartbeat(Heartbeat, started daemon 140208552924736)>, <Thread(Thread-3 (_watch_pipe_fd), started daemon 140208318174784)>, <Thread(Thread-4 (_watch_pipe_fd), started daemon 140208309782080)>, <ControlThread(Control, started daemon 140208301389376)>, <HistorySavingThread(IPythonHistorySavingThread, started 140208292996672)>, <ParentPollerUnix(Thread-2, started daemon 140208284603968)>]\n"
     ]
    }
   ],
   "source": [
    "## enumerate()\n",
    "\n",
    "##Purpose: Return a list of all active threads.\n",
    "\n",
    "import threading\n",
    "\n",
    "#get a list of all active threads\n",
    "threads=threading.enumerate()\n",
    "print(\"All active Threads\",threads)"
   ]
  },
  {
   "cell_type": "markdown",
   "id": "c9cb4045-4d1f-49ee-b9ea-abc9678d4096",
   "metadata": {},
   "source": [
    "## Q3. Explain the following functions :\n",
    "run()\n",
    "start()\n",
    "join()\n",
    "isAlive()"
   ]
  },
  {
   "cell_type": "code",
   "execution_count": 31,
   "id": "6cc3dd05-509b-4bd5-8368-550d36015856",
   "metadata": {},
   "outputs": [],
   "source": [
    "# 1.run()\n",
    "\n",
    "# Purpose: Define the code that the thread will excute.\n",
    "\n",
    "import threading \n",
    "class MyThread(threading.Thread):\n",
    "    def run(self):\n",
    "        print(\"Thread is running\")"
   ]
  },
  {
   "cell_type": "code",
   "execution_count": 32,
   "id": "03a7ac25-c7ce-42d2-9b16-950c854ddfcf",
   "metadata": {},
   "outputs": [
    {
     "name": "stdout",
     "output_type": "stream",
     "text": [
      "Thread is running\n"
     ]
    }
   ],
   "source": [
    "#2. Start()\n",
    "#Purpose: Start the thread and make it run the thread and calls run()\n",
    "\n",
    "thread =MyThread()\n",
    "thread.start() #starts the thread and calls run()"
   ]
  },
  {
   "cell_type": "code",
   "execution_count": 33,
   "id": "bcc9bd40-394b-435b-96bd-aff8836c827b",
   "metadata": {},
   "outputs": [
    {
     "name": "stdout",
     "output_type": "stream",
     "text": [
      "Thread has finished\n"
     ]
    }
   ],
   "source": [
    "#3. join()\n",
    "# Purpose : Waits for the thread to finish its work.\n",
    "# thread.start() #start the thread \n",
    "thread.join() #wait for the thread to complete\n",
    "print(\"Thread has finished\")"
   ]
  },
  {
   "cell_type": "code",
   "execution_count": 34,
   "id": "eaa201ca-1d8f-452d-a4c3-f1a52c61b200",
   "metadata": {},
   "outputs": [
    {
     "name": "stdout",
     "output_type": "stream",
     "text": [
      "False\n",
      "False\n"
     ]
    }
   ],
   "source": [
    "#4. is_alive()\n",
    "#Purpose Check if the thread i still running \n",
    "# thread.start() #start the thread \n",
    "print(thread.is_alive()) #check if the thread is still running \n",
    "thread.join() #wait for the thread to complete\n",
    "print(thread.is_alive())  #check again after the thread has finished"
   ]
  },
  {
   "cell_type": "markdown",
   "id": "05ea1e67-31ad-42e8-b039-37e434c54331",
   "metadata": {},
   "source": [
    "## Q4. Write a python program to create two threads. Thread one must print the list of squares and thread two must print the list of cubes"
   ]
  },
  {
   "cell_type": "code",
   "execution_count": 36,
   "id": "d4eeebcb-e23c-4518-914f-91ef03c4d7d2",
   "metadata": {},
   "outputs": [
    {
     "name": "stdout",
     "output_type": "stream",
     "text": [
      "Square of 1 is 1\n",
      "Square of 2 is 4\n",
      "Square of 3 is 9\n",
      "Square of 4 is 16\n",
      "Square of 5 is 25\n",
      "Cube of 1 is 1\n",
      "Cube of 2 is 8\n",
      "Cube of 3 is 27\n",
      "Cube of 4 is 64\n",
      "Cube of 5 is 125\n",
      "Both thread have finished executions\n"
     ]
    }
   ],
   "source": [
    "import threading\n",
    "\n",
    "def print_squ(numbers):\n",
    "    for number in numbers:\n",
    "        print(f\"Square of {number} is {number**2}\")\n",
    "def print_cube(numbers):\n",
    "    for number in numbers:\n",
    "        print(f\"Cube of {number} is {number**3}\")\n",
    "\n",
    "numbers=[1,2,3,4,5]\n",
    "              \n",
    "thread1=threading.Thread(target=print_squ,args=(numbers,))\n",
    "thread2=threading.Thread(target=print_cube,args=(numbers,))\n",
    "              \n",
    "#start threads\n",
    "\n",
    "thread1.start()\n",
    "thread2.start()\n",
    "              \n",
    "#wait for both thread to complet \n",
    "thread1.join()\n",
    "thread2.join()\n",
    "              \n",
    "print(\"Both thread have finished executions\")\n",
    "              "
   ]
  },
  {
   "cell_type": "markdown",
   "id": "1850e474-b4df-4afe-b2a9-073e890c378f",
   "metadata": {},
   "source": [
    "## Q.5 State advantages and disadvantages of multithreading"
   ]
  },
  {
   "cell_type": "markdown",
   "id": "59b7aa02-8329-47f2-8ca7-2170ca4f8042",
   "metadata": {},
   "source": [
    "## Advantages of Multithreading \n",
    "\n",
    "1.improve performance:\n",
    "\n",
    "    1. Task can run at the same time \n",
    "    2. Better use of CPU\n",
    "2.Responsiveness:\n",
    "\n",
    "    1. Keep Application Responsive , especially with user interfaces.\n",
    "    \n",
    "3.Resourve Sharing:\n",
    "\n",
    "    1. Thread share memory and resourves efficiently \n",
    "    \n",
    "4.Modularity:\n",
    "\n",
    "    1. Break complex tasks into smaller , manageable threads.\n",
    "\n",
    "5.Cost Efficiency\n",
    "\n",
    "    1. Less overhead compared to using seperate processes "
   ]
  },
  {
   "cell_type": "markdown",
   "id": "223cf80f-0a91-4977-99cd-329e65a59b6c",
   "metadata": {},
   "source": [
    "## Disadvantages of Multithreading\n",
    "\n",
    "1.Complexity:\n",
    "\n",
    "    1.Difficult to manage synchronization issues like race conditions and deadlocks.\n",
    "    2.Harder to debug due to concurrent execution.\n",
    "    \n",
    "2.Overhead:\n",
    "\n",
    "    1.Context switching between threads can reduce performance.\n",
    "    2.Requires careful resource management to avoid contention.\n",
    "    \n",
    "3.Scalability:\n",
    "\n",
    "    1.Limited by the Global Interpreter Lock (GIL) in CPython for CPU-bound tasks.\n",
    "    \n",
    "4.Potential for Errors:\n",
    "\n",
    "    1.Risk of deadlocks if locks are not handled correctly\n",
    "    2.Race conditions from unsynchronized access to shared resources."
   ]
  },
  {
   "cell_type": "markdown",
   "id": "b3e6a2f9-9a7f-4f00-9e5e-5f9853a934db",
   "metadata": {},
   "source": [
    "## Q.6. Explain deadlocks and race conditions."
   ]
  },
  {
   "cell_type": "markdown",
   "id": "fbedd289-a448-4f46-a25a-af8af08519d4",
   "metadata": {},
   "source": [
    "## Deadlocks\n",
    "\n",
    "Definition: \n",
    "\n",
    "    A deadlock is a situation where two or more threads are unable to proceed because each is waiting for the other to release a resource.\n",
    "\n",
    "Cause: \n",
    "    \n",
    "    Thread A holds Resource 1 and waits for Resource 2.\n",
    "    Thread B holds Resource 2 and waits for Resource 1.\n",
    "    Both threads are stuck, waiting for the other to release the resource they need."
   ]
  },
  {
   "cell_type": "code",
   "execution_count": 42,
   "id": "a82e89e5-7c4b-4947-970d-ae4d7f95fb35",
   "metadata": {},
   "outputs": [
    {
     "name": "stdout",
     "output_type": "stream",
     "text": [
      "Thread 1 acquired lock1\n",
      "Thread 2 acquired lock2\n",
      "Thread 2 acquired lock2\n",
      "Thread 2 acquired lock1\n"
     ]
    }
   ],
   "source": [
    "# Example:\n",
    "import threading\n",
    "\n",
    "lock1=threading.Lock()\n",
    "lock2=threading.Lock()\n",
    "\n",
    "def thread1():\n",
    "    with lock1:\n",
    "        print(\"Thread 1 acquired lock1\")\n",
    "        with lock2:\n",
    "            print(\"Thread 2 acquired lock2\")\n",
    "    \n",
    "def thread2():\n",
    "    with lock2:\n",
    "        print(\"Thread 2 acquired lock2\")\n",
    "        with lock1:\n",
    "            print(\"Thread 2 acquired lock1\")\n",
    "            \n",
    "t1=threading.Thread(target=thread1)\n",
    "t2=threading.Thread(target=thread2)\n",
    "\n",
    "t1.start()\n",
    "t2.start()\n",
    "\n",
    "t1.join()\n",
    "t2.join()"
   ]
  },
  {
   "cell_type": "markdown",
   "id": "f18ca5e4-d2f3-4a28-8a9f-a22355711311",
   "metadata": {},
   "source": [
    "## Race Conditions:\n",
    "\n",
    "Definition: \n",
    "\n",
    "    A race condition occurs when the outcome of a program depends on the sequence or timing of uncontrollable events, such as the order in which threads are scheduled.\n",
    "\n",
    "Cause:\n",
    "\n",
    "    1.Multiple threads access a shared resource simultaneously.\n",
    "    2.At least one thread modifies the resource.\n"
   ]
  },
  {
   "cell_type": "code",
   "execution_count": 52,
   "id": "be3a8d43-ac3b-46ed-a514-53fca6bdb204",
   "metadata": {},
   "outputs": [
    {
     "name": "stdout",
     "output_type": "stream",
     "text": [
      "Final Counter Value : 800000\n"
     ]
    }
   ],
   "source": [
    "# Example:\n",
    "\n",
    "import threading\n",
    "\n",
    "Counter=0\n",
    "counter_lock=threading.Lock()\n",
    "\n",
    "def increment():\n",
    "    global counter\n",
    "    for _ in range(100000):\n",
    "        with counter_lock:\n",
    "            counter +=1\n",
    "        \n",
    "t1= threading.Thread(target=increment)\n",
    "t2= threading.Thread(target=increment)\n",
    "\n",
    "t1.start()\n",
    "t2.start()\n",
    "\n",
    "t1.join()\n",
    "t2.join()\n",
    "\n",
    "print(\"Final Counter Value :\",counter)\n",
    "    \n",
    "    "
   ]
  },
  {
   "cell_type": "markdown",
   "id": "6fe921e0-3ef9-4be6-9122-61c3256903d2",
   "metadata": {},
   "source": [
    "Deadlocks: \n",
    "\n",
    "    Threads are stuck waiting for each other forever, typically due to circular resource dependencies.\n",
    "\n",
    "Race Conditions:\n",
    "\n",
    "    Unpredictable behavior due to unsynchronized access to shared resources, leading to incorrect results."
   ]
  },
  {
   "cell_type": "code",
   "execution_count": null,
   "id": "db7aff95-bb93-4d3e-b175-884e78b74ef5",
   "metadata": {},
   "outputs": [],
   "source": []
  },
  {
   "cell_type": "code",
   "execution_count": null,
   "id": "f1128b02-72f6-4c24-b3f7-73a7567fed37",
   "metadata": {},
   "outputs": [],
   "source": []
  },
  {
   "cell_type": "code",
   "execution_count": null,
   "id": "7e7665c3-d301-4f2e-8c8e-493e85719555",
   "metadata": {},
   "outputs": [],
   "source": []
  },
  {
   "cell_type": "code",
   "execution_count": null,
   "id": "494e263a-1135-4e79-9cd9-d9608e100244",
   "metadata": {},
   "outputs": [],
   "source": []
  }
 ],
 "metadata": {
  "kernelspec": {
   "display_name": "Python 3 (ipykernel)",
   "language": "python",
   "name": "python3"
  },
  "language_info": {
   "codemirror_mode": {
    "name": "ipython",
    "version": 3
   },
   "file_extension": ".py",
   "mimetype": "text/x-python",
   "name": "python",
   "nbconvert_exporter": "python",
   "pygments_lexer": "ipython3",
   "version": "3.10.8"
  }
 },
 "nbformat": 4,
 "nbformat_minor": 5
}
