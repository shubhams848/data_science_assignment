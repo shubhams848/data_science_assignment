{
 "cells": [
  {
   "cell_type": "markdown",
   "id": "7322a6a0-fa95-43b7-9aff-33413cbf79a0",
   "metadata": {},
   "source": [
    "# Q.1.What is multiprocessing in python? Why is it useful?"
   ]
  },
  {
   "cell_type": "markdown",
   "id": "5ad35c15-4f79-47f0-8cde-39f3eaa2f827",
   "metadata": {},
   "source": [
    "## Answer \n",
    "\n",
    "multiprocessing in python allows you to run multiple tasks at the same time by using multiple cpu cores. This can make your programs run faster , especially for tasks that need a lot of computation."
   ]
  },
  {
   "cell_type": "markdown",
   "id": "c56777f3-bde2-4e1c-9f16-d03243745599",
   "metadata": {},
   "source": [
    "### Why use Multiprocessing:"
   ]
  },
  {
   "cell_type": "markdown",
   "id": "e6ec10b9-7a3c-49b5-8f39-2bb847c00879",
   "metadata": {},
   "source": [
    "1.Faster Execution: It can speed up taks by running them in parallel.\n",
    "\n",
    "2.Better CPU Utilization: It makes use of multiple CPU Cores.\n",
    "\n",
    "3.Avoid GIL: It bypasses Pythons Global Interpreter Lock (GIL), \n",
    "which can be a bottleneck for multi-threaded programs."
   ]
  },
  {
   "cell_type": "code",
   "execution_count": 3,
   "id": "90de8fd9-1d7c-4cc2-b8ed-f36fadf05c8d",
   "metadata": {},
   "outputs": [
    {
     "name": "stdout",
     "output_type": "stream",
     "text": [
      "Worker :0\n",
      "Worker :1\n",
      "Worker :2\n",
      "Worker :3\n",
      "Worker :4\n",
      "Worker :5\n",
      "Worker :6\n",
      "Worker :7\n",
      "Worker :8\n",
      "Worker :9\n"
     ]
    }
   ],
   "source": [
    "import multiprocessing\n",
    "\n",
    "def worker(num):\n",
    "    \"\"\"Function that does some work\"\"\"\n",
    "    print(f\"Worker :{num}\")\n",
    "    \n",
    "if __name__==\"__main__\":\n",
    "    processes =[]\n",
    "    for i in range(10):\n",
    "        p=multiprocessing.Process(target=worker,args=(i,))\n",
    "        processes.append(p)\n",
    "        p.start()\n",
    "    \n",
    "    for p in processes:\n",
    "        p.join()"
   ]
  },
  {
   "cell_type": "markdown",
   "id": "dab21f64-b7b8-439b-80dd-6721e3613f21",
   "metadata": {},
   "source": [
    "# Q.2.What are the differences between multiprocessing and multithreading?"
   ]
  },
  {
   "cell_type": "markdown",
   "id": "99c35c23-7176-46a2-9908-5cd81530cce6",
   "metadata": {},
   "source": [
    "## Answer:\n",
    "\n",
    "    Multiprocessing:\n",
    "    \n",
    "        1.Definition: Runs multiple processes, each with its own memory space.\n",
    "        2.Memory: Each process has its own separate memory.\n",
    "        3.Performance: True parallel execution on multiple CPU cores.\n",
    "        4.Communication: Processes communicate via complex methods like pipes or shared memory.\n",
    "        5.Use Cases: Best for heavy computations, like scientific calculations.\n",
    "   \n",
    "    Multithreading:\n",
    "    \n",
    "        1.Definition: Runs multiple threads within the same process, sharing memory.\n",
    "        2.Memory: All threads share the same memory space.\n",
    "        3.Performance: Can run concurrently, especially good for tasks waiting on I/O operations.\n",
    "        4.Communication: Easier communication between threads but needs careful synchronization.\n",
    "        5.Use Cases: Best for tasks like handling multiple web requests or file operations.\n",
    "    \n",
    "    Summary:\n",
    "        Multiprocessing: Good for CPU-heavy tasks, more memory use, true parallelism.\n",
    "        Multithreading: Good for I/O-heavy tasks, less memory use, shared memory.\n",
    "    \n",
    "            "
   ]
  },
  {
   "cell_type": "markdown",
   "id": "e7c0a708-a351-420a-9a8e-be7d19082bbd",
   "metadata": {},
   "source": [
    "# Q.3. Write a python code to create a process using the multiprocessing module."
   ]
  },
  {
   "cell_type": "code",
   "execution_count": 4,
   "id": "92260330-1f96-4f64-b53a-4f254ae04d8d",
   "metadata": {},
   "outputs": [
    {
     "name": "stdout",
     "output_type": "stream",
     "text": [
      "Worker Process is running\n",
      "Worker process has finished\n"
     ]
    }
   ],
   "source": [
    "import multiprocessing\n",
    "\n",
    "def worker():\n",
    "    print(\"Worker Process is running\")\n",
    "    \n",
    "if __name__==\"__main__\":\n",
    "    process=multiprocessing.Process(target=worker)\n",
    "    \n",
    "    process.start()\n",
    "    \n",
    "    process.join()\n",
    "    \n",
    "    print(\"Worker process has finished\")"
   ]
  },
  {
   "cell_type": "markdown",
   "id": "a27a5257-8858-439a-8197-1fc8015a7b35",
   "metadata": {},
   "source": [
    "# Q.4 What is a multiprocessing pool in python? Why is it used?"
   ]
  },
  {
   "cell_type": "markdown",
   "id": "fff25668-95cf-44ba-ba52-d89b31826f06",
   "metadata": {},
   "source": [
    "A multiprocessing.Pool in Python is a convenient way to manage a pool of worker processes. It allows you to parallelize the execution of a function across multiple input values, distributing the input data across multiple processes and collecting the results."
   ]
  },
  {
   "cell_type": "markdown",
   "id": "66e3672e-1aaf-4fe9-914e-d39008aa6dac",
   "metadata": {},
   "source": [
    "Why Use multiprocessing.Pool."
   ]
  },
  {
   "cell_type": "markdown",
   "id": "99b30adf-79cd-4717-9aee-56a003cdfcaf",
   "metadata": {},
   "source": [
    "1.Ease of Use:\n",
    "\n",
    "        simplifies the process of parallelizing a function over a list of input without having to manage the individual processes manually.\n",
    "    \n",
    "2.Efficient Resource Management:\n",
    "\n",
    "    Manages a pool of worker processes for you, reusing them for multiple tasks, which is more efficient than creating and destroying processes for each task.\n",
    "\n",
    "3.Concurrency:\n",
    "    \n",
    "    Helps achieve concurrency, especially useful for CPU-bound tasks that benefit from running in parallel on multiple CPU cores.\n",
    "    \n",
    "4.Scalability:\n",
    "\n",
    "    Easily scales your application by specifying the number of worker processes to match the number of CPU cores available.\n",
    "    \n",
    "      \n",
    "    "
   ]
  },
  {
   "cell_type": "code",
   "execution_count": 5,
   "id": "c93e3318-37f1-4bf8-aaa0-529c6380820a",
   "metadata": {},
   "outputs": [
    {
     "name": "stdout",
     "output_type": "stream",
     "text": [
      "Result [1, 4, 9, 16, 25]\n"
     ]
    }
   ],
   "source": [
    "import multiprocessing\n",
    "import time \n",
    "\n",
    "def square(x):\n",
    "    return x*x\n",
    "\n",
    "if __name__== \"__main__\":\n",
    "    with multiprocessing.Pool(processes=4) as pool:\n",
    "        number=[1,2,3,4,5]\n",
    "        result=pool.map(square,number)\n",
    "    \n",
    "    print(\"Result\",result)\n",
    "        \n",
    "\n"
   ]
  },
  {
   "cell_type": "markdown",
   "id": "92ef22e2-17d5-450b-a5ab-65021673270b",
   "metadata": {},
   "source": [
    "# Q.5.How can we create a pool of worker processes in python using the multiprocessing module?"
   ]
  },
  {
   "cell_type": "markdown",
   "id": "696371a8-37ee-482b-b58b-8eee5f174e54",
   "metadata": {},
   "source": [
    "Steps to Create a Pool of Worker Processes\n",
    "\n",
    "Import the multiprocessing module:\n",
    "\n",
    "    This module provides the Pool class which allows you to manage a pool of worker processes.\n",
    "\n",
    "Define the function to be executed in parallel:\n",
    "\n",
    "    This function will be run by each worker process on different pieces of data.\n",
    "\n",
    "Create a Pool of worker processes:\n",
    "\n",
    "    Instantiate a Pool object with the desired number of worker processes.\n",
    "\n",
    "Use the Pool to parallelize the function:\n",
    "\n",
    "    Methods like map, apply, apply_async, and starmap can be used to distribute tasks among the worker processes.\n",
    "\n",
    "Close the Pool and wait for the processes to finish:\n",
    "\n",
    "    Use close() to prevent any more tasks from being submitted to the pool and join() to wait for the worker processes to complete."
   ]
  },
  {
   "cell_type": "code",
   "execution_count": 7,
   "id": "70906329-cfa6-4b21-8644-4c0a4c7b7771",
   "metadata": {},
   "outputs": [
    {
     "name": "stdout",
     "output_type": "stream",
     "text": [
      "Results: [1, 4, 9, 16, 25]\n"
     ]
    }
   ],
   "source": [
    "import multiprocessing\n",
    "\n",
    "def square(x):\n",
    "    \"\"\"Function to be executed in parallel by the worker processes\"\"\"\n",
    "    return x * x\n",
    "\n",
    "if __name__ == \"__main__\":\n",
    "    # Define the list of numbers to be squared\n",
    "    numbers = [1, 2, 3, 4, 5]\n",
    "\n",
    "    # Create a Pool with 4 worker processes\n",
    "    with multiprocessing.Pool(processes=4) as pool:\n",
    "        # Use pool.map to apply the 'square' function to each element in 'numbers'\n",
    "        results = pool.map(square, numbers)\n",
    "\n",
    "    # Print the results\n",
    "    print(\"Results:\", results)\n"
   ]
  },
  {
   "cell_type": "markdown",
   "id": "ff361199-df41-4dec-8761-cd3b3e723655",
   "metadata": {},
   "source": [
    "# Q.6.Write a python program to create 4 processes, each process should print a different number using the multiprocessing module in python."
   ]
  },
  {
   "cell_type": "code",
   "execution_count": null,
   "id": "2953b2e2-18fe-4453-90e3-e093933ad8e5",
   "metadata": {},
   "outputs": [],
   "source": [
    "import multiprocessing\n",
    "\n",
    "def print_number(number):\n",
    "    \"\"\"Function to be executed by each process\"\"\"\n",
    "    print(f\"Process {multiprocessing.current_process().name} is printing number: {number}\")\n",
    "\n",
    "if __name__ == \"__main__\":\n",
    "    # List of numbers to print\n",
    "    numbers = [1, 2, 3, 4]\n",
    "\n",
    "    # Create a list to hold the process objects\n",
    "    processes = []\n",
    "\n",
    "    # Create and start 4 processes\n",
    "    for number in numbers:\n",
    "        process = multiprocessing.Process(target=print_number, args=(number,))\n",
    "        processes.append(process)\n",
    "        process.start()\n",
    "\n",
    "    # Wait for all processes to complete\n",
    "    for process in processes:\n",
    "        process.join()\n",
    "\n",
    "    print(\"All processes have finished\")\n"
   ]
  },
  {
   "cell_type": "code",
   "execution_count": null,
   "id": "6327154d-f57e-4f7e-8fd0-2ced3ed29bee",
   "metadata": {},
   "outputs": [],
   "source": []
  },
  {
   "cell_type": "code",
   "execution_count": null,
   "id": "7d5c856c-9f2f-4275-8883-e52a876746ed",
   "metadata": {},
   "outputs": [],
   "source": []
  }
 ],
 "metadata": {
  "kernelspec": {
   "display_name": "Python 3 (ipykernel)",
   "language": "python",
   "name": "python3"
  },
  "language_info": {
   "codemirror_mode": {
    "name": "ipython",
    "version": 3
   },
   "file_extension": ".py",
   "mimetype": "text/x-python",
   "name": "python",
   "nbconvert_exporter": "python",
   "pygments_lexer": "ipython3",
   "version": "3.10.8"
  }
 },
 "nbformat": 4,
 "nbformat_minor": 5
}
