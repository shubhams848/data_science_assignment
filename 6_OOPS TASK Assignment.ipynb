{
 "cells": [
  {
   "cell_type": "raw",
   "id": "046b580e-def0-4a33-8868-ae09cc0b6ea5",
   "metadata": {},
   "source": [
    "Q1, Create a vehicle class with an init method having instance variables as name_of_vehicle, max_speed and average_of_vehicle.\n",
    "Q2. Create a child class car from the vehicle class created in Que 1, which will inherit the vehicle class.\n",
    "Create a method named seating_capacity which takes capacity as an argument and returns the name of the vehicle and its seating capacity.\n",
    "Q3. What is multiple inheritance? Write a python code to demonstrate multiple inheritance.\n",
    "Q4. What are getter and setter in python? Create a class and create a getter and a setter method in this class.\n",
    "Q5.What is method overriding in python? Write a python code to demonstrate method overriding."
   ]
  },
  {
   "cell_type": "markdown",
   "id": "07a5d240-1614-409f-a168-1926d6448e65",
   "metadata": {},
   "source": [
    "Q1, Create a vehicle class with an init method having instance variables as name_of_vehicle, max_speed\n",
    "and average_of_vehicle."
   ]
  },
  {
   "cell_type": "code",
   "execution_count": 2,
   "id": "aa2a002c-6f37-4541-b54c-2b0d4a2fe437",
   "metadata": {},
   "outputs": [
    {
     "name": "stdout",
     "output_type": "stream",
     "text": [
      "Name of vehicle BMW\n",
      "max speed 250\n",
      "Avg_of_vehicle 18\n"
     ]
    }
   ],
   "source": [
    "class vehicle:\n",
    "    def __init__(self,name_of_vehicle ,max_speed, average_of_vehicle):\n",
    "        self.name_of_vehicle=name_of_vehicle\n",
    "        self.max_speed=max_speed\n",
    "        self.average_of_vehicle=average_of_vehicle\n",
    "    \n",
    "car=vehicle(\"BMW\",250,18)\n",
    "print(\"Name of vehicle\",car.name_of_vehicle)\n",
    "print(\"max speed\", car.max_speed)\n",
    "print(\"Avg_of_vehicle\",car.average_of_vehicle)"
   ]
  },
  {
   "cell_type": "markdown",
   "id": "9478a0ad-54ac-460b-a28d-e436008a4e1f",
   "metadata": {},
   "source": [
    "Q2. Create a child class car from the vehicle class created in Que 1, which will inherit the vehicle class.\n",
    "Create a method named seating_capacity which takes capacity as an argument and returns the name of the vehicle and its seating capacity."
   ]
  },
  {
   "cell_type": "code",
   "execution_count": 13,
   "id": "c89c1b52-94c5-49d5-bde9-e92f9f3b65c7",
   "metadata": {},
   "outputs": [
    {
     "name": "stdout",
     "output_type": "stream",
     "text": [
      "name_of_vehicle: Audi\n",
      "max_speed 250\n",
      "average_of_vehicle 15\n",
      "Audi has a seating capacity of 2 passanger\n"
     ]
    }
   ],
   "source": [
    "class car(vehicle):\n",
    "    def seating_capacity(self,capacity):\n",
    "        return f\"{self.name_of_vehicle} has a seating capacity of {capacity} passanger\"\n",
    "    \n",
    "car_instance=car(\"Audi\",250,15)\n",
    "capacity_result=car_instance.seating_capacity(2)\n",
    "#\n",
    "print(\"name_of_vehicle:\",car_instance.name_of_vehicle)\n",
    "print(\"max_speed\",car_instance.max_speed)\n",
    "print(\"average_of_vehicle\",car_instance.average_of_vehicle)\n",
    "print(capacity_result)\n",
    "    \n",
    "\n",
    "\n"
   ]
  },
  {
   "cell_type": "markdown",
   "id": "57046581-e74d-4c83-8768-b221ec2d33ff",
   "metadata": {},
   "source": [
    "Q3. What is multiple inheritance? Write a python code to demonstrate multiple inheritance."
   ]
  },
  {
   "cell_type": "markdown",
   "id": "31f50424-0cb5-44ed-a3df-2af052b0168f",
   "metadata": {},
   "source": [
    "Solution:\n",
    " \n",
    " 1. multiple inheritance is feature of OOP's.\n",
    " 2. where class can inherit attributes and methods from more than one parent class \n",
    " 3. in python you can achieve multiple inheritance by creating a class that inherits from multiple classes \n"
   ]
  },
  {
   "cell_type": "code",
   "execution_count": 2,
   "id": "028c7ecb-d567-4541-bb86-fb72661f44ab",
   "metadata": {},
   "outputs": [
    {
     "name": "stdout",
     "output_type": "stream",
     "text": [
      "Parrot says chirp\n",
      "Parrot can fly\n",
      "Parrot can swim\n"
     ]
    }
   ],
   "source": [
    "#base 1\n",
    "class Animal:\n",
    "    def __init__(self,name):\n",
    "        self.name=name\n",
    "    def speak(self):\n",
    "        pass\n",
    "\n",
    "#base 2\n",
    "class flyable:\n",
    "    def fly(self):\n",
    "        print (f\"{self.name} can fly\")\n",
    "\n",
    "#base 3\n",
    "class Swimmable:\n",
    "    def swim(self):\n",
    "        print(f\"{self.name} can swim\")\n",
    "    \n",
    "# derived class\n",
    "class bird(Animal,flyable,Swimmable):\n",
    "    def speak(self):\n",
    "        print(f\"{self.name} says chirp\")\n",
    "\n",
    "#instance creation\n",
    "parrot =bird(\"Parrot\")\n",
    "\n",
    "#method call\n",
    "parrot.speak()\n",
    "parrot.fly()\n",
    "parrot.swim()"
   ]
  },
  {
   "cell_type": "markdown",
   "id": "cd233d27-d91c-49ef-8dee-8f7464a3f7f1",
   "metadata": {},
   "source": [
    "Q4. What are getter and setter in python? Create a class and create a getter and a setter method in this class."
   ]
  },
  {
   "cell_type": "markdown",
   "id": "100eff6a-1da0-4950-a1b8-521de0e6dcb3",
   "metadata": {},
   "source": [
    "Solution:\n",
    "\n",
    "    1.getter and settler methods are used to access and modify the       attribute of class,providing a way to control the access and         modification of class attributes.\n",
    "    2. Getter methods are used to retrieve the values of attributes.\n",
    "    3. Setter methods are used to modify the values of attributes."
   ]
  },
  {
   "cell_type": "code",
   "execution_count": 6,
   "id": "60b80f85-bf89-46ba-8ce1-33c6f6f4ea77",
   "metadata": {},
   "outputs": [
    {
     "name": "stdout",
     "output_type": "stream",
     "text": [
      "Name shubham\n",
      "Age 27\n",
      "Updated Name Shubham Singh\n",
      "Updated Age 28\n"
     ]
    }
   ],
   "source": [
    "class student:\n",
    "    def __init__(self,name ,age):\n",
    "        self.name=name\n",
    "        self.age=age\n",
    "    # getter method for the name attribute\n",
    "    def get_name(self):\n",
    "        return self.name\n",
    "    # setter method for name attribute\n",
    "    def set_name(self,new_name):\n",
    "        if isinstance(new_name,str):\n",
    "            self.name=new_name\n",
    "        else:\n",
    "            print (\"Invalid Input. name must be string.\")\n",
    "    #getter method for age \n",
    "    def get_age(self):\n",
    "        return self.age\n",
    "    #setter method for age \n",
    "    def set_age(self,new_age):\n",
    "        if isinstance(new_age,int) and new_age >= 0 :\n",
    "            self.age=new_age\n",
    "        else:\n",
    "            print(\"Invalid Input: Age must be intiger \")\n",
    "            \n",
    "# instance creation\n",
    "student_1=student(\"shubham\",27)\n",
    "\n",
    "#use the getter method to retrive attri. value \n",
    "print(\"Name\",student_1.get_name())\n",
    "print(\"Age\",student_1.get_age())\n",
    "\n",
    "#use the setter method to modify attri. value \n",
    "\n",
    "student_1.set_name(\"Shubham Singh\")\n",
    "student_1.set_age(28)\n",
    "\n",
    "#print updated attributed values\n",
    "print(\"Updated Name\",student_1.get_name())\n",
    "print(\"Updated Age\",student_1.get_age())"
   ]
  },
  {
   "cell_type": "markdown",
   "id": "4a71cd76-e3fc-4154-8dc5-9d0312844ba5",
   "metadata": {},
   "source": [
    "Q5.What is method overriding in python? Write a python code to demonstrate method overriding."
   ]
  },
  {
   "cell_type": "markdown",
   "id": "72c78797-3a03-4303-8a6a-0aff132e5bbb",
   "metadata": {},
   "source": [
    "Solution:   \n",
    "   \n",
    "   1. Method overriding is a concept in OOP's ,Where a subclass provides a specific      implementation for a method that is already defined in its super class.  \n",
    "    2. This is method in the subclass that replaces the methods in the super class .it has the same name and parameters but provides a specialized implementation."
   ]
  },
  {
   "cell_type": "code",
   "execution_count": 27,
   "id": "c5f3cda7-1775-4769-8f86-b1aa21aed72a",
   "metadata": {},
   "outputs": [
    {
     "name": "stdout",
     "output_type": "stream",
     "text": [
      "Animal speaks generic sounds\n",
      "Dog barks\n",
      "Cat Meows\n"
     ]
    }
   ],
   "source": [
    "class animal:\n",
    "    def speak(self):\n",
    "        print(\"Animal speaks generic sounds\")\n",
    "class Dog(animal):\n",
    "    def speak(self):\n",
    "        print(\"Dog barks\")\n",
    "class Cat(animal):\n",
    "    def speak(self):\n",
    "        print(\"Cat Meows\")\n",
    "\n",
    "#instance \n",
    "Animal=animal()\n",
    "dog=Dog()\n",
    "cat=Cat()\n",
    "\n",
    "#callig overridden methods\n",
    "\n",
    "Animal.speak()\n",
    "dog.speak()\n",
    "cat.speak()"
   ]
  }
 ],
 "metadata": {
  "kernelspec": {
   "display_name": "Python 3 (ipykernel)",
   "language": "python",
   "name": "python3"
  },
  "language_info": {
   "codemirror_mode": {
    "name": "ipython",
    "version": 3
   },
   "file_extension": ".py",
   "mimetype": "text/x-python",
   "name": "python",
   "nbconvert_exporter": "python",
   "pygments_lexer": "ipython3",
   "version": "3.10.8"
  }
 },
 "nbformat": 4,
 "nbformat_minor": 5
}
