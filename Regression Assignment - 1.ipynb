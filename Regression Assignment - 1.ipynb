{
 "cells": [
  {
   "cell_type": "markdown",
   "id": "026e43b6",
   "metadata": {},
   "source": [
    "Q1. Explain the difference between simple linear regression and multiple linear regression. Provide an\n",
    "example of each."
   ]
  },
  {
   "cell_type": "raw",
   "id": "8a47480b",
   "metadata": {},
   "source": [
    "1.The main difference between simple linear regression and multiple linear regression is the number of independent variables used in the model.\n",
    "2.In simple linear regression, we use one independent variable, while in multiple linear regression, we use two or more independent variables.\n",
    "3.complexity of the model. Simple linear regression models are relatively simple and easy to interpret, as they involve only two variables. Multiple linear regression models, on the other hand, are more complex and require more computational power. They also require more careful interpretation, as the relationships between the independent variables and the dependent variable can be more difficult to understand.\n",
    "\n",
    "## Example:\n",
    "1.Suppose we want to predict a person’s score on a math test based on their study time and their IQ score.\n",
    "2.We collect data on study time (in hours) and IQ scores (on a scale of 0 to 100)\n",
    "3.for a sample of 50 students, along with their scores on a math test (out of 100). We can then use this data to create both a simple linear regression model and a multiple linear regression model.\n",
    "\n",
    "4.First, let’s create a simple linear regression model. We can plot the data on a scatter plot to visualize the relationship between study time and math scores.\n",
    "5.From the scatter plot, we can see that there appears to be a positive linear relationship between study time and math scores. We can then fit a linear regression line to the data to estimate the relationship between the two variables.\n",
    "6.equation for the simple linear regression model is:\n",
    "Math Score = 32.55 + 1.89 x Study Time\n",
    "\n",
    "This means that for every one-hour increase in study time, we expect the student’s math score to increase by 1.89 points, on average.\n",
    "\n",
    "7.let’s create a multiple linear regression model that includes both study time and IQ score as independent variables.\n",
    "\n",
    "8.The equation for the multiple linear regression model is\n",
    "Math Score = 17.62 + 1.68 x Study Time + 0.26 x IQ Score\n",
    "\n",
    "9.This means that for every one-hour increase in study time, we expect the student’s math score to increase by 1.68 points, on average, holding the IQ score constant. Similarly, for every one-point increase in IQ score, we expect the student’s math score to increase by 0.26 points, on average, holding study time constant."
   ]
  },
  {
   "cell_type": "markdown",
   "id": "5aceb1dc",
   "metadata": {},
   "source": [
    "Q2. Discuss the assumptions of linear regression. How can you check whether these assumptions hold in\n",
    "a given dataset?"
   ]
  },
  {
   "cell_type": "raw",
   "id": "6b62af8d",
   "metadata": {},
   "source": [
    "Mainly there are 7 assumptions taken while using Linear Regression:\n",
    "\n",
    "1.Linear Model\n",
    "2.No Multicolinearlity in the data\n",
    "3.Homoscedasticity of Residuals or Equal Variances\n",
    "4.No Autocorrelation in residuals\n",
    "5.Number of observations Greater than the number of predictors\n",
    "6.Each observation is unique\n",
    "7.Predictors are distributed Normally"
   ]
  },
  {
   "cell_type": "raw",
   "id": "fb8fb6f5",
   "metadata": {},
   "source": [
    "How can you check whether these assumptions hold in\n",
    "a given dataset?"
   ]
  },
  {
   "cell_type": "code",
   "execution_count": null,
   "id": "86969492",
   "metadata": {},
   "outputs": [],
   "source": [
    "Linearity:\n",
    "    Assumption: The relationship between the independent variables and the dependent variable is linear.\n",
    "    Check: Create scatter plots of the dependent variable against each independent variable. Additionally, examine residual plots (residuals vs. fitted values) for any patterns; non-random patterns indicate non-linearity.\n",
    "Independence:\n",
    "    Assumption: Observations are independent of each other.\n",
    "    "
   ]
  }
 ],
 "metadata": {
  "kernelspec": {
   "display_name": "Python 3 (ipykernel)",
   "language": "python",
   "name": "python3"
  },
  "language_info": {
   "codemirror_mode": {
    "name": "ipython",
    "version": 3
   },
   "file_extension": ".py",
   "mimetype": "text/x-python",
   "name": "python",
   "nbconvert_exporter": "python",
   "pygments_lexer": "ipython3",
   "version": "3.10.9"
  }
 },
 "nbformat": 4,
 "nbformat_minor": 5
}
