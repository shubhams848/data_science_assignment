{
 "cells": [
  {
   "cell_type": "markdown",
   "metadata": {},
   "source": [
    "Q1. Explain GET and POST methods."
   ]
  },
  {
   "cell_type": "markdown",
   "metadata": {},
   "source": [
    "GET Method\n",
    "\n",
    "    Purpose: Used to retrieve data from the server.\n",
    "\n",
    "Data Handling:\n",
    "\n",
    "    Sends data as part of the URL (e.g., example.com/page?name=John&age=30).\n",
    "    Data is visible in the browser address bar.\n",
    "\n",
    "Characteristics:\n",
    "\n",
    "    Idempotent: Multiple identical requests yield the same response (no side effects).\n",
    "    Cached: The response can be cached by browsers.\n",
    "    Bookmarkable: The URL can be saved and shared as it contains all query parameters.\n",
    "    Usage: Suitable for actions like searching, reading, or filtering information.\n",
    "\n",
    "Limitations:\n",
    "\n",
    "    Limited data size (URL length restriction, typically 2000 characters).\n",
    "    Not secure for sensitive data (e.g., passwords, personal information)."
   ]
  },
  {
   "cell_type": "markdown",
   "metadata": {},
   "source": [
    "POST Method\n",
    "\n",
    "Purpose: Used to submit data to the server to create or update resources.\n",
    "\n",
    "Data Handling:\n",
    "\n",
    "    Sends data in the body of the HTTP request (not visible in the URL).\n",
    "    Data is not displayed in the browser address bar.\n",
    "\n",
    "Characteristics:\n",
    "\n",
    "    Non-Idempotent: Repeating the request may have different outcomes (e.g., creating multiple entries).\n",
    "    Not Cached: Requests are not cached by default.\n",
    "    Not Bookmarkable: The request cannot be bookmarked or shared as it doesn't contain the data in the URL.\n",
    "    Usage: Suitable for actions like form submissions, login, or uploading files.\n",
    "\n",
    "Advantages:\n",
    "\n",
    "    Secure for transmitting sensitive data (especially with HTTPS).\n",
    "    No size limitations for data sent."
   ]
  },
  {
   "cell_type": "markdown",
   "metadata": {},
   "source": [
    "Q2. Why is request used in Flask?"
   ]
  },
  {
   "cell_type": "markdown",
   "metadata": {},
   "source": [
    "In Flask, the request object is essential for handling incoming HTTP requests, enabling dynamic and interactive web applications. \n",
    "\n",
    "overview:\n",
    "\n",
    "    Data Retrieval: Access URL parameters, form data, JSON payloads, and headers sent by clients.\n",
    "\n",
    "    Client Interaction: Capture and process user interactions like form submissions or data inputs.\n",
    "   \n",
    "    Dynamic Content: Generate content tailored to user input or other request-specific data.\n",
    "   \n",
    "    Validation: Validate and sanitize user input to prevent security vulnerabilities like SQL injection or XSS.\n",
    "   \n",
    "    Customization: Tailor application behavior for personalized user experiences.The request object bridges the client-server interaction, making Flask a powerful tool for building responsive and secure web applications."
   ]
  },
  {
   "cell_type": "code",
   "execution_count": null,
   "metadata": {
    "vscode": {
     "languageId": "plaintext"
    }
   },
   "outputs": [],
   "source": [
    "from flask import Flask , request\n",
    "\n",
    "app= Flask(__name__)\n",
    "\n",
    "@app.route(\"/submit\",methods=['POST'])\n",
    "def submit_form():\n",
    "    if request.method == \"POST\":\n",
    "        username=request.form.get('username')\n",
    "        email=request.form.get('email')\n",
    "        #process the data \n",
    "        return f\"Received : Username -{username}, Email-{email}\"\n",
    "\n",
    "if __name__==\"__main__\":\n",
    "    app.run()\n",
    "    "
   ]
  },
  {
   "cell_type": "markdown",
   "metadata": {},
   "source": [
    "Q3. Why is redirect() used in Flask?"
   ]
  },
  {
   "cell_type": "markdown",
   "metadata": {},
   "source": [
    "In Flask, the redirect() function is used to perform URL redirection. It allows you to send a response to the client's browser that instructs it to navigate to a different URL. This is super useful when you want to direct users to a different page or route within your application.\n",
    "\n",
    "Here's why the redirect() function is used in Flask:\n",
    "\n",
    "Navigation: Sometimes you want to guide users to a different page after they've performed an action, like submitting a form. The redirect() function lets you send them to the appropriate URL.\n",
    "\n",
    "Changing Routes: If you've defined different routes in your Flask application, the redirect() function is a convenient way to move users from one route to another.\n",
    "\n",
    "Post-Redirect-Get Pattern: It's a common practice to use the Post-Redirect-Get (PRG) pattern. After processing a form submission (usually with a POST request), you redirect the user to a different URL (usually a GET request) to avoid issues with form resubmission on page refresh.\n",
    "\n",
    "Cleaner URLs: The redirect() function can be used to create cleaner and more user-friendly URLs, helping users understand and navigate your application's structure."
   ]
  },
  {
   "cell_type": "markdown",
   "metadata": {},
   "source": [
    "from flask import Flask, redirect, url_for\n",
    "\n",
    "app = Flask(__name__)\n",
    "\n",
    "@app.route('/')\n",
    "def home():\n",
    "    return \"Welcome to the Home Page!\"\n",
    "\n",
    "@app.route('/redirect_example')\n",
    "def redirect_example():\n",
    "    # Redirect to the home page using the URL for the 'home' route\n",
    "    return redirect(url_for('home'))\n",
    "\n",
    "if __name__ == '__main__':\n",
    "    app.run()"
   ]
  },
  {
   "cell_type": "markdown",
   "metadata": {},
   "source": [
    "Q4. What are templates in Flask? Why is the render_template() function used?"
   ]
  },
  {
   "cell_type": "markdown",
   "metadata": {},
   "source": [
    "In Flask, templates are a way to separate the presentation logic from the application logic. Templates are used to generate dynamic HTML pages by embedding placeholders for dynamic content. This makes it easier to maintain and organize your code, as you can keep the structure of your web pages separate from the Python code that generates the content.\n",
    "\n",
    "The render_template() function is used to render these templates and generate HTML pages. It's a built-in function in Flask that takes a template file's name and any additional data you want to pass to the template as arguments. The function then processes the template, substitutes placeholders with actual data, and returns the generated HTML to be sent to the client's browser.\n",
    "\n",
    "Here's why templates and the render_template() function are used in Flask:\n",
    "\n",
    "Separation of Concerns: Templates allow you to separate the design and presentation of your web pages from the application's logic. This makes your codebase more organized and easier to maintain.\n",
    "\n",
    "Dynamic Content: Templates enable you to insert dynamic content into your HTML pages. You can pass variables, data, and even logic to the template for rendering.\n",
    "\n",
    "Consistency: By using templates, you can ensure a consistent look and feel across your web pages, as design elements can be reused easily.\n",
    "\n",
    "Code Reusability: Templates can be reused for different pages, reducing code duplication and making your codebase more efficient.\n",
    "\n",
    "Readability: Separating HTML code from the application logic improves code readability and makes it easier for designers and developers to work together."
   ]
  },
  {
   "cell_type": "code",
   "execution_count": null,
   "metadata": {
    "vscode": {
     "languageId": "plaintext"
    }
   },
   "outputs": [],
   "source": [
    "<!DOCTYPE html>\n",
    "<html>\n",
    "<head>\n",
    "    <title>{{ title }}</title>\n",
    "</head>\n",
    "<body>\n",
    "    <h1>Hello, {{ user }}!</h1>\n",
    "</body>\n",
    "</html>"
   ]
  },
  {
   "cell_type": "code",
   "execution_count": null,
   "metadata": {
    "vscode": {
     "languageId": "plaintext"
    }
   },
   "outputs": [],
   "source": [
    "from flask import Flask, render_template\n",
    "\n",
    "app = Flask(__name__)\n",
    "\n",
    "@app.route('/')\n",
    "def index():\n",
    "    return render_template('index.html', title='Welcome to My App', user='John')\n",
    "\n",
    "if __name__ == '__main__':\n",
    "    app.run()"
   ]
  },
  {
   "cell_type": "markdown",
   "metadata": {},
   "source": [
    "Q5. Create a simple API. Use Postman to test it. Attach the screenshot of the output in the Jupyter Notebook"
   ]
  },
  {
   "cell_type": "markdown",
   "metadata": {},
   "source": [
    "    1. Install Flask: If you haven't already, you'll need to install Flask. You can do this using the following command:\n",
    "\n",
    "    pip install Flask\n",
    "    2. Create a Flask App: Create a Python file (e.g., app.py) and write the following code:\n",
    "\n",
    "    from flask import Flask, request, jsonify\n",
    "\n",
    "    app = Flask(__name__)\n",
    "\n",
    "    @app.route('/api/hello', methods=['GET'])\n",
    "    def hello():\n",
    "        return jsonify(message='Hello, API!')\n",
    "\n",
    "    if __name__ == '__main__':\n",
    "        app.run(debug=True)\n",
    "    3. Run the Flask App: Run your Flask app by executing the command:\n",
    "\n",
    "    python app.py\n",
    "\n",
    "    4. Use Postman to Test: Now, open Postman and follow these steps:\n",
    "\n",
    "    Set the request type to \"GET\".\n",
    "    Enter the URL: http://127.0.0.1:5000/api/hello (adjust the port if you've configured a different one).\n",
    "    Click the \"Send\" button.\n",
    "    You should see a response like:\n",
    "\n",
    "    {\n",
    "        \"message\": \"Hello, API!\"\n",
    "    }"
   ]
  }
 ],
 "metadata": {
  "kernelspec": {
   "display_name": "Python 3",
   "language": "python",
   "name": "python3"
  },
  "language_info": {
   "codemirror_mode": {
    "name": "ipython",
    "version": 3
   },
   "file_extension": ".py",
   "mimetype": "text/x-python",
   "name": "python",
   "nbconvert_exporter": "python",
   "pygments_lexer": "ipython3",
   "version": "3.12.4"
  }
 },
 "nbformat": 4,
 "nbformat_minor": 2
}
