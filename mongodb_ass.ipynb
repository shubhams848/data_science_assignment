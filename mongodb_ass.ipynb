{
 "cells": [
  {
   "cell_type": "markdown",
   "id": "ef45be8a-4682-4404-80e4-e255255808c2",
   "metadata": {},
   "source": [
    "## Q1. What is MongoDB? Explain non-relational databases in short. In which scenarios it is preferred to use MongoDB over SQL databases?"
   ]
  },
  {
   "cell_type": "markdown",
   "id": "38582d55-18ce-468c-85ab-a5c91d12f61f",
   "metadata": {},
   "source": [
    "### What is MongoDB?\n",
    "    1. MongoDB is a NoSQL database that stores data as documents in a flexible, JSON-like format.\n",
    "    2. It’s different from traditional databases that use tables with rows and columns.\n",
    "\n",
    "### Non-relational Databases (NoSQL)\n",
    "    1. NoSQL databases don’t use tables like traditional databases.\n",
    "    2. They store data in various ways, like documents, key-value pairs, or graphs.\n",
    "    3. They’re good for handling large amounts of data that don’t fit neatly into tables.\n",
    "    \n",
    "### When to Use MongoDB Over SQL Databases\n",
    "    1. Flexible Data Structure: When you need to change the data structure often.\n",
    "    2. Unstructured Data: For storing things like text, images, or logs that don’t fit into tables.\n",
    "    3. Scaling: When you need to easily add more servers to handle more data.\n",
    "    4. Real-Time Data: For applications that need to process lots of data quickly.\n",
    "    5. Distributed Data: When your data is spread across different locations.\n",
    "    \n",
    "### When SQL is Better:\n",
    "    1.When you need strong rules for data consistency.\n",
    "    2.When you need to link data from different tables.\n",
    "    3.When your data structure is fixed and well-defined."
   ]
  },
  {
   "cell_type": "markdown",
   "id": "e0aabbc9-9a0b-4b7c-bca9-bd5708f88e34",
   "metadata": {},
   "source": [
    "## Q.2 State and Explain the features of MongoDB."
   ]
  },
  {
   "cell_type": "markdown",
   "id": "c77dd246-fef2-48f8-ba0b-cb3821d48bc4",
   "metadata": {},
   "source": [
    "### Document-Oriented Storage:\n",
    "    Explanation: MongoDB stores data as documents in a JSON-like format (BSON). Each document is a collection of key-value pairs, allowing for complex data structures within a single record.\n",
    "\n",
    "### Flexible Schema:\n",
    "    Explanation: MongoDB allows you to have a flexible schema, meaning you can store documents with different structures in the same collection. This makes it easy to adapt to changing data requirements.\n",
    "    \n",
    "### Scalability:\n",
    "    Explanation: MongoDB supports horizontal scaling through a process called sharding, which allows large datasets to be distributed across multiple servers.\n",
    "    \n",
    "### High Performance:\n",
    "    Explanation: MongoDB is designed for high performance with features like indexing, in-memory storage, and efficient data retrieval, making it suitable for real-time applications.\n",
    "    \n",
    "### Rich Query Language:\n",
    "    Explanation: MongoDB offers a powerful query language that supports various operations, including filtering, sorting, and aggregating data, similar to SQL but more flexible.\n",
    "### Indexing:\n",
    "    Explanation: MongoDB supports indexing on any field within a document, improving the speed of query operations.\n",
    "### Replication:\n",
    "    Explanation: MongoDB provides data replication through replica sets, ensuring data availability and redundancy by copying data across multiple servers.\n",
    "### Aggregation Framework:\n",
    "    Explanation: MongoDB has an advanced aggregation framework that allows for complex data processing and transformation operations, like grouping and filtering.\n",
    "### Geospatial Support:\n",
    "    Explanation: MongoDB includes built-in geospatial features, allowing you to store and query location-based data efficiently.\n",
    "### Ad-Hoc Queries:\n",
    "    Explanation: MongoDB allows you to perform ad-hoc queries on your data, meaning you can search and retrieve data without predefined queries or schema."
   ]
  },
  {
   "cell_type": "markdown",
   "id": "dbf9feec-c7c3-4eb8-a459-0601aa77128b",
   "metadata": {},
   "source": [
    "## Q.3 Write a code to connect MongoDB to Python. Also, create a database and a collection in MongoDB."
   ]
  },
  {
   "cell_type": "markdown",
   "id": "d370c564-5569-45da-9653-0881ca46d638",
   "metadata": {},
   "source": [
    "    pip install pymongo"
   ]
  },
  {
   "cell_type": "markdown",
   "id": "7c667f47-6409-4130-a5fb-248cf32f8cf6",
   "metadata": {},
   "source": [
    "    from pymongo import MongoClient\n",
    "\n",
    "    # Step 2: Connect to MongoDB\n",
    "    client = MongoClient(\"mongodb://localhost:27017/\")  # Replace with your MongoDB URI if different\n",
    "\n",
    "    # Step 3: Create a Database\n",
    "    db = client[\"my_database\"]  # This creates a new database called 'my_database'\n",
    "\n",
    "    # Step 4: Create a Collection\n",
    "    collection = db[\"my_collection\"]  # This creates a new collection called 'my_collection'\n",
    "\n",
    "    # Optional: Insert a document to test\n",
    "    document = {\"name\": \"John Doe\", \"age\": 30, \"occupation\": \"Engineer\"}\n",
    "    collection.insert_one(document)\n",
    "\n",
    "    print(\"Connected to MongoDB, database and collection created, and a document inserted successfully.\")\n"
   ]
  },
  {
   "cell_type": "markdown",
   "id": "99a91840-21be-4672-a3e7-e24733713de9",
   "metadata": {},
   "source": [
    "## Q.4 Using the database and the collection created in question number 3, write a code to insert one record,and insert many records. Use the find() and find_one() methods to print the inserted record."
   ]
  },
  {
   "cell_type": "markdown",
   "id": "3f8cd5f1-9913-40b8-ae6f-35a6518b3d83",
   "metadata": {},
   "source": [
    "    from pymongo import MongoClient\n",
    "\n",
    "    # Step 1: Connect to MongoDB\n",
    "    client = MongoClient(\"mongodb://localhost:27017/\")\n",
    "\n",
    "    # Step 2: Access the database and collection\n",
    "    db = client[\"my_database\"]\n",
    "    collection = db[\"my_collection\"]\n",
    "\n",
    "    # Step 3: Insert One Record\n",
    "    record_one = {\"name\": \"Alice\", \"age\": 28, \"occupation\": \"Data Scientist\"}\n",
    "    collection.insert_one(record_one)\n",
    "    print(\"Inserted one record.\")\n",
    "\n",
    "    # Step 4: Insert Many Records\n",
    "    records_many = [\n",
    "        {\"name\": \"Bob\", \"age\": 25, \"occupation\": \"Software Engineer\"},\n",
    "        {\"name\": \"Charlie\", \"age\": 32, \"occupation\": \"Product Manager\"},\n",
    "        {\"name\": \"David\", \"age\": 22, \"occupation\": \"Intern\"},\n",
    "    ]\n",
    "    collection.insert_many(records_many)\n",
    "    print(\"Inserted multiple records.\")\n",
    "\n",
    "    # Step 5: Retrieve and Print One Record\n",
    "    record = collection.find_one({\"name\": \"Alice\"})\n",
    "    print(\"\\nRecord retrieved using find_one():\")\n",
    "    print(record)\n",
    "\n",
    "    # Step 6: Retrieve and Print All Records\n",
    "    print(\"\\nRecords retrieved using find():\")\n",
    "    for record in collection.find():\n",
    "        print(record)\n"
   ]
  },
  {
   "cell_type": "markdown",
   "id": "05738d54-de0e-41b2-a2c4-9d39aafcba44",
   "metadata": {},
   "source": [
    "## Q5. Explain how you can use the find() method to query the MongoDB database. Write a simple code to demonstrate this."
   ]
  },
  {
   "cell_type": "markdown",
   "id": "75e224fa-2507-489d-b8a5-4b183e8da697",
   "metadata": {},
   "source": [
    "## find() Method\n",
    "    1.The find() method is used to retrieve multiple records from a MongoDB collection.\n",
    "    2.You can use it to:\n",
    "        i. Get all records in a collection.\n",
    "        ii. Filter records based on certain conditions.\n",
    "        iii. Choose specific fields to show in the results.\n",
    "    3. Basic Syntax:\n",
    "        collection.find(query, projection)\n",
    "    4.Example Scenarios:\n",
    "        i. Retrieve All Documents: collection.find() with no arguments returns all documents in the collection.\n",
    "        ii. Query with a Condition: You can pass a query condition to filter documents, like {\"age\": 30} to find all documents where the age field is 30\n",
    "        iii. Projection: You can specify a projection to include or exclude certain fields from the results, like {\"name\": 1, \"_id\": 0} to include only the name field and exclude the _id field.\n",
    "    \n",
    "    5.code \n",
    "    \n",
    "    from pymongo import MongoClient\n",
    "\n",
    "    # Step 1: Connect to MongoDB\n",
    "    client = MongoClient(\"mongodb://localhost:27017/\")\n",
    "\n",
    "    # Step 2: Access the database and collection\n",
    "    db = client[\"my_database\"]\n",
    "    collection = db[\"my_collection\"]\n",
    "\n",
    "    # Step 3: Insert sample data (only if needed)\n",
    "    collection.insert_many([\n",
    "        {\"name\": \"Alice\", \"age\": 28, \"occupation\": \"Data Scientist\"},\n",
    "        {\"name\": \"Bob\", \"age\": 25, \"occupation\": \"Software Engineer\"},\n",
    "        {\"name\": \"Charlie\", \"age\": 32, \"occupation\": \"Product Manager\"},\n",
    "        {\"name\": \"David\", \"age\": 22, \"occupation\": \"Intern\"}\n",
    "    ])\n",
    "\n",
    "    # Step 4: Query All Documents\n",
    "    print(\"All documents in the collection:\")\n",
    "    for record in collection.find():\n",
    "        print(record)\n",
    "\n",
    "    # Step 5: Query with a Condition\n",
    "    print(\"\\nDocuments where age is 25:\")\n",
    "    for record in collection.find({\"age\": 25}):\n",
    "        print(record)\n",
    "\n",
    "    # Step 6: Query with Projection\n",
    "    print(\"\\nDocuments showing only name and occupation:\")\n",
    "    for record in collection.find({}, {\"name\": 1, \"occupation\": 1, \"_id\": 0}):\n",
    "        print(record)\n"
   ]
  },
  {
   "cell_type": "markdown",
   "id": "2dc5fb46-1052-4819-b37d-1226fc67c5db",
   "metadata": {},
   "source": [
    "## Q.6 Explain the sort() method. Give an example to demonstrate sorting in MongoDB."
   ]
  },
  {
   "cell_type": "markdown",
   "id": "56c6e72f-b16f-4e89-a866-6f61ecf638a2",
   "metadata": {},
   "source": [
    "### sort() Method\n",
    "\n",
    "    The sort() method in MongoDB is used to sort the documents in the result set of a query. Sorting can be done based on one or more fields, and it can be in ascending or descending order.\n",
    "    \n",
    "    1. Basic Syntax: collection.find().sort(\"field_name\", direction)\n",
    "    2. field_name: The name of the field you want to sort by.\n",
    "    3. direction: The direction of the sort:\n",
    "        i. 1 for ascending order (smallest to largest).\n",
    "        ii. -1 for descending order (largest to smallest).\n",
    "\n",
    "### Example: Sorting in MongoDB\n",
    "\n",
    "    from pymongo import MongoClient\n",
    "\n",
    "    # Step 1: Connect to MongoDB\n",
    "    client = MongoClient(\"mongodb://localhost:27017/\")\n",
    "\n",
    "    # Step 2: Access the database and collection\n",
    "    db = client[\"my_database\"]\n",
    "    collection = db[\"my_collection\"]\n",
    "\n",
    "    # Step 3: Insert sample data (only if needed)\n",
    "    collection.insert_many([\n",
    "        {\"name\": \"Alice\", \"age\": 28},\n",
    "        {\"name\": \"Bob\", \"age\": 25},\n",
    "        {\"name\": \"Charlie\", \"age\": 32},\n",
    "        {\"name\": \"David\", \"age\": 22}\n",
    "    ])\n",
    "\n",
    "    # Step 4: Sort by age in ascending order\n",
    "    print(\"Documents sorted by age in ascending order:\")\n",
    "    for record in collection.find().sort(\"age\", 1):\n",
    "        print(record)\n",
    "\n",
    "    # Step 5: Sort by age in descending order\n",
    "    print(\"\\nDocuments sorted by age in descending order:\")\n",
    "    for record in collection.find().sort(\"age\", -1):\n",
    "        print(record)\n",
    "\n",
    "\n",
    "    "
   ]
  },
  {
   "cell_type": "markdown",
   "id": "ca156929-a457-4b1e-a0a6-95b6d9bb7704",
   "metadata": {},
   "source": [
    "## Q.7 Explain why delete_one(), delete_many(), and drop() is used."
   ]
  },
  {
   "cell_type": "markdown",
   "id": "ecfb13d7-bd41-4b0f-ae53-c82e31949a23",
   "metadata": {},
   "source": [
    "### 1. delete_one()\n",
    "\n",
    "    Purpose: The delete_one() method is used to delete a single document from a collection that matches a specified filter.\n",
    "    Behavior:\n",
    "        1.It will delete the first document that matches the filter criteria.\n",
    "        2.If multiple documents match, only the first one encountered will be deleted.\n",
    "        3.If no document matches the criteria, nothing will be deleted.\n",
    "    Example:\n",
    "        collection.delete_one({\"name\": \"Alice\"})\n",
    "        This deletes the first document where the name field is \"Alice\".\n",
    "### 2. delete_many()\n",
    "    Purpose: The delete_many() method is used to delete multiple documents from a collection that match a specified filter.\n",
    "    Behavior:\n",
    "        1.It deletes all documents that match the filter criteria.\n",
    "        2.If no documents match, nothing will be deleted.\n",
    "    Example:\n",
    "        collection.delete_many({\"age\": {\"$lt\": 30}})\n",
    "        This deletes all documents where the age field is less than 30.\n",
    "### 3. drop()\n",
    "    Purpose: The drop() method is used to delete an entire collection from the database.\n",
    "    Behavior:\n",
    "        1.It removes all documents within the collection and also deletes the collection itself.\n",
    "        2.After calling drop(), the collection no longer exists in the database.\n",
    "    Example:\n",
    "        collection.drop()\n",
    "        This deletes the entire collection and all the documents it contains."
   ]
  },
  {
   "cell_type": "code",
   "execution_count": null,
   "id": "06359be9-da51-43ca-8413-ffb42f9e3ddf",
   "metadata": {},
   "outputs": [],
   "source": []
  },
  {
   "cell_type": "code",
   "execution_count": null,
   "id": "98402d59-8eb2-40d9-a369-64c9be8f29cd",
   "metadata": {},
   "outputs": [],
   "source": []
  },
  {
   "cell_type": "code",
   "execution_count": null,
   "id": "ec57337d-01d0-4dd2-a40e-d834fda0b035",
   "metadata": {},
   "outputs": [],
   "source": []
  },
  {
   "cell_type": "code",
   "execution_count": null,
   "id": "f8c4caff-1209-4c5b-ba40-1135b81ae0be",
   "metadata": {},
   "outputs": [],
   "source": []
  },
  {
   "cell_type": "code",
   "execution_count": null,
   "id": "56d47ff7-9530-4cce-8204-e9db70dda090",
   "metadata": {},
   "outputs": [],
   "source": []
  },
  {
   "cell_type": "code",
   "execution_count": null,
   "id": "7cf5f1ba-98c2-4d7d-8812-7c1326051678",
   "metadata": {},
   "outputs": [],
   "source": []
  },
  {
   "cell_type": "code",
   "execution_count": null,
   "id": "4016f1cc-e5ab-4772-bfb6-dd410e598b79",
   "metadata": {},
   "outputs": [],
   "source": []
  }
 ],
 "metadata": {
  "kernelspec": {
   "display_name": "Python 3 (ipykernel)",
   "language": "python",
   "name": "python3"
  },
  "language_info": {
   "codemirror_mode": {
    "name": "ipython",
    "version": 3
   },
   "file_extension": ".py",
   "mimetype": "text/x-python",
   "name": "python",
   "nbconvert_exporter": "python",
   "pygments_lexer": "ipython3",
   "version": "3.10.8"
  }
 },
 "nbformat": 4,
 "nbformat_minor": 5
}
