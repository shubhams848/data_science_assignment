{
 "cells": [
  {
   "cell_type": "raw",
   "id": "0aba8077-8672-4288-a338-525efa7475db",
   "metadata": {},
   "source": [
    "Q1. Explain Class and Object with respect to Object-Oriented Programming. Give a suitable example.\n",
    "Q2. Name the four pillars of OOPs.\n",
    "Q3. Explain why the __init__() function is used. Give a suitable example.\n",
    "Q4. Why self is used in OOPs?\n",
    "Q5. What is inheritance? Give an example for each type of inheritance."
   ]
  },
  {
   "cell_type": "markdown",
   "id": "cfaa957c-bdfe-4f10-b136-fd1b7edb5120",
   "metadata": {},
   "source": [
    "Q1. Explain Class and Object with respect to Object-Oriented Programming.Give a suitable example."
   ]
  },
  {
   "cell_type": "markdown",
   "id": "e8b98d59-908b-40a4-9545-91e03d4ecca8",
   "metadata": {},
   "source": [
    "Answer : \n",
    "\n",
    "Class -> A class is considered as a blueprint of objects. We can think of the class as a sketch (prototype) of a bike. It contains all the details about the name, gear, speed, etc.\n",
    "\n",
    "Object -> An object is called an instance of a class.For example, suppose Bike is a class then we can create objects like bike1, bike2, etc from the class."
   ]
  },
  {
   "cell_type": "code",
   "execution_count": 1,
   "id": "518e1a07-2550-453f-9c59-62080747d903",
   "metadata": {},
   "outputs": [
    {
     "name": "stdout",
     "output_type": "stream",
     "text": [
      "Name:Honda , Gear: 5 \n",
      "Name:BMW , Gear: 8 \n"
     ]
    }
   ],
   "source": [
    "# Example: \n",
    "#create class\n",
    "class bike:\n",
    "    name=\"\"\n",
    "    gear=0\n",
    "\n",
    "#create object:\n",
    "bike_1=bike()\n",
    "bike_2=bike()\n",
    "\n",
    "## accessing attribute:\n",
    "bike_1.name=\"Honda\"\n",
    "bike_1.gear=5\n",
    "\n",
    "bike_2.name=\"BMW\"\n",
    "bike_2.gear=8\n",
    "\n",
    "print(f\"Name:{bike_1.name} , Gear: {bike_1.gear} \")\n",
    "print(f\"Name:{bike_2.name} , Gear: {bike_2.gear} \")"
   ]
  },
  {
   "cell_type": "code",
   "execution_count": null,
   "id": "b5cf418c-773f-48ed-94a4-bdd038f8e856",
   "metadata": {},
   "outputs": [],
   "source": [
    "class bike_1:\n",
    "    def __init__(self,color,model):\n",
    "        self.color=color\n",
    "        self.model=model\n",
    "    def accelerate(self):\n",
    "        print(f\"The {self.color} {self.model} is accelerating\")\n",
    "    def brake(self):\n",
    "        print(f\"The {self.color} {self.model} is braking\")"
   ]
  },
  {
   "cell_type": "markdown",
   "id": "34e6ee95-f623-401e-8bfd-27a66f1c305e",
   "metadata": {},
   "source": [
    "Q2. Name the four pillars of OOPs."
   ]
  },
  {
   "cell_type": "markdown",
   "id": "6d25c297-e26b-4a7d-b449-380f37b6f31e",
   "metadata": {},
   "source": [
    "Answer :\n",
    "\n",
    "1. Abstraction ->\n",
    "is the process of hiding internal detailes or process from the user ,this is done by creating the classes which represent real word object and thir attribute.\n",
    "2. Encapsulation-> \n",
    "its the way to keep code organize and seperate from other code in the system, its done with the help of classes contains all the code related to specific feature or subject.\n",
    "(public, private, protected)\n",
    "3. Inheritance ->\n",
    "inheritance is a mechanisum that alloesa new cass to inherit propert and behaviour (attributes or method ) from exisitng class .Its promote code hierarchy in code. \n",
    "4. Polymorphism ->\n",
    "polymorphism means the ability of diffrent object to respond to the same method or messege \n",
    "in a way that is specific to their individual class.it allows object of diffrent classes to be treated as object of common supper class.\n"
   ]
  },
  {
   "cell_type": "markdown",
   "id": "80517ca6-5679-4a1f-8826-b5fd31967138",
   "metadata": {},
   "source": [
    "Q.3. Explain why the __init__() function is used. Give a suitable example."
   ]
  },
  {
   "cell_type": "markdown",
   "id": "dc726ae4-a342-48d1-92d6-10727fe1cdd1",
   "metadata": {},
   "source": [
    "Solution:\n",
    "1. the __init__() function in python is special method also known as a constuctor.\n",
    "2. Use to initialize and set up the attributes or properties of an object when its created from a class. \n",
    "it is called automatically when an object is instantiated from class .\n",
    "allowing you to provide initial values or perform any nessessary setup for the object"
   ]
  },
  {
   "cell_type": "code",
   "execution_count": 5,
   "id": "bb1b93ba-7fef-405e-ae52-5ca99ea0e27e",
   "metadata": {},
   "outputs": [
    {
     "name": "stdout",
     "output_type": "stream",
     "text": [
      "shubham\n",
      "ram\n",
      " My name is shubham, and i am 27 years old.\n",
      " My name is ram, and i am 28 years old.\n"
     ]
    }
   ],
   "source": [
    "class person:\n",
    "    def __init__(self,name,age):\n",
    "        self.name=name \n",
    "        self.age=age\n",
    "    def introduce(self):\n",
    "        return f\" My name is {self.name}, and i am {self.age} years old.\"\n",
    "\n",
    "#create instace of the class \n",
    "person1=person(\"shubham\",27)\n",
    "person2=person(\"ram\",28)\n",
    "\n",
    "#access and dsplay the attributes \n",
    "print (person1.name)\n",
    "print (person2.name)\n",
    "\n",
    "#call the introduce method:\n",
    "print (person1.introduce())\n",
    "print (person2.introduce())"
   ]
  },
  {
   "cell_type": "markdown",
   "id": "df766482-874a-4e97-b91b-8a8807266c21",
   "metadata": {},
   "source": [
    "Q.4 Why self is used in OOPs?"
   ]
  },
  {
   "cell_type": "markdown",
   "id": "2e9d7b1b-bb6f-4973-ac8b-31ef00fd4496",
   "metadata": {},
   "source": [
    "Answer: \n",
    "\n",
    "1.self is used to represent the instance of the class.\n",
    "\n",
    "2.with this keyword ,you can access the attributes and methods of the class in python.\n",
    "\n",
    "3.It binds the attributes with the given arguments.\n",
    "\n",
    "4.the reason why we use sef is that python does not ue the @ syntax to refer to instance attributes.\n",
    "\n",
    "5.In python we have methods that make the instance to be passed automatically ,but not recived automatically."
   ]
  },
  {
   "cell_type": "raw",
   "id": "961a7d86-d2b7-4cb2-bdbe-c57e534acf57",
   "metadata": {},
   "source": [
    "Q.5 . What is inheritance? Give an example for each type of inheritance."
   ]
  },
  {
   "cell_type": "markdown",
   "id": "b4e6b7c2-aa8e-48ef-92ba-8766822293d2",
   "metadata": {},
   "source": [
    "Solution:"
   ]
  },
  {
   "cell_type": "markdown",
   "id": "a87cc4b7-de0a-4405-bfa5-925949056cc2",
   "metadata": {},
   "source": [
    "1.Inheritance is fundamental concept in oop's that allow a\n",
    "\" class to inherit properties and behaviors from another class \"\n",
    "\n",
    "2.This promotes code reuse and creation of a hierarchical structure in which sub classes inherit and extend the functionality of thier parent classes.\n",
    "\n",
    "There are several types of inheritance:"
   ]
  },
  {
   "cell_type": "code",
   "execution_count": 2,
   "id": "87ec20bb-d935-4ce9-8569-985f90dd6a75",
   "metadata": {},
   "outputs": [],
   "source": [
    "# 1.:Single Inheritance: in single inheritance , a class inherits from \n",
    "# only one sub-class \n",
    "\n",
    "class Animal:\n",
    "    def speak(self):\n",
    "        print(\"animal speaks\")\n",
    "\n",
    "\n",
    "class dog(Animal):\n",
    "    def bark (self):\n",
    "        print(\"Dog barks\")\n",
    "        \n",
    "#dog inherits from animal "
   ]
  },
  {
   "cell_type": "code",
   "execution_count": 3,
   "id": "71d26a5b-823c-4687-9575-f70ff5f3d72c",
   "metadata": {},
   "outputs": [],
   "source": [
    "#2:Multiple Inheritance: In this a class inheit from more then one class\n",
    "\n",
    "class Bird:\n",
    "    def chirp(self):\n",
    "        print(\"Bird Chirps\")\n",
    "class flyingDog(dog,Bird):\n",
    "    def fly(self):\n",
    "        print(\"Dog can fly \")\n",
    "# Flying Dog inheits from both dog and Bird"
   ]
  },
  {
   "cell_type": "code",
   "execution_count": 4,
   "id": "6cb24658-ae1d-427b-baf4-7dc9b07aa9e2",
   "metadata": {},
   "outputs": [],
   "source": [
    "#3.Multilevel Inheritance: in this ,a class inherits from another class , and \n",
    "# then another class inheits from it \n",
    "\n",
    "class mammal(Animal):\n",
    "    def feed_milk(self):\n",
    "        print(\"Mammal feeds milk\")\n",
    "\n",
    "class cow (mammal):\n",
    "    def moo (self):\n",
    "        print(\" Cow moos\")\n",
    "\n",
    "#cow inherits from both mammal and animal \n"
   ]
  },
  {
   "cell_type": "code",
   "execution_count": 7,
   "id": "138002b3-dbff-4c5e-8515-44920c00b5da",
   "metadata": {},
   "outputs": [],
   "source": [
    "#4. Hierarchical Inheritance:\n",
    "# In this multiple class inheit from a common superclass \n",
    "\n",
    "class shape:\n",
    "    def draw(self):\n",
    "        print(\"Drawing Shape\")\n",
    "class circle(shape):\n",
    "    def draw_circle(self):\n",
    "        print(\"Drawing Circle\")\n",
    "class Square(shape):\n",
    "    def draw_square(self):\n",
    "        print(\"drawing Square\")\n",
    "\n",
    "#both circle and square inheit from shape "
   ]
  },
  {
   "cell_type": "code",
   "execution_count": 8,
   "id": "ef714a58-0072-4451-a920-273e3ab2bf0b",
   "metadata": {},
   "outputs": [],
   "source": [
    "# 5: Hybrid or mixed inheritance:\n",
    "# this inheritance is combination  of two or more \n",
    "# inheritance within a program "
   ]
  },
  {
   "cell_type": "code",
   "execution_count": null,
   "id": "e010c02e-d85c-486f-8597-8b5f70754e1d",
   "metadata": {},
   "outputs": [],
   "source": [
    "class A:\n",
    "    pass\n",
    "class B(A):\n",
    "    pass\n",
    "class C(A):\n",
    "    pass\n",
    "class D(B,C):\n",
    "    pass\n",
    "# D inherits from both B and C and indirectly from A"
   ]
  },
  {
   "cell_type": "code",
   "execution_count": null,
   "id": "c98467ed-a3a7-4bba-a90e-f6239dcaef74",
   "metadata": {},
   "outputs": [],
   "source": []
  },
  {
   "cell_type": "code",
   "execution_count": null,
   "id": "6a4218d5-9538-4de6-b67c-ad4565ad3ebb",
   "metadata": {},
   "outputs": [],
   "source": []
  },
  {
   "cell_type": "code",
   "execution_count": null,
   "id": "01197bc1-0ee8-4d77-8060-d3718c303bd1",
   "metadata": {},
   "outputs": [],
   "source": []
  },
  {
   "cell_type": "markdown",
   "id": "c389e6b9-4f3b-4674-a718-dc413fd9aa21",
   "metadata": {},
   "source": []
  },
  {
   "cell_type": "code",
   "execution_count": null,
   "id": "d9f65da5-ee1c-46cb-ae85-476d170d5b63",
   "metadata": {},
   "outputs": [],
   "source": []
  }
 ],
 "metadata": {
  "kernelspec": {
   "display_name": "Python 3 (ipykernel)",
   "language": "python",
   "name": "python3"
  },
  "language_info": {
   "codemirror_mode": {
    "name": "ipython",
    "version": 3
   },
   "file_extension": ".py",
   "mimetype": "text/x-python",
   "name": "python",
   "nbconvert_exporter": "python",
   "pygments_lexer": "ipython3",
   "version": "3.10.8"
  }
 },
 "nbformat": 4,
 "nbformat_minor": 5
}
