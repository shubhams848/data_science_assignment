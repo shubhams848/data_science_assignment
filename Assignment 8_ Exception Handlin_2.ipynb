{
 "cells": [
  {
   "cell_type": "raw",
   "id": "215107cf-763c-4a37-8485-4070e247a321",
   "metadata": {},
   "source": [
    "Assignment\n",
    "Q1. Explain why we have to use the Exception class while creating a Custom Exception.\n",
    "Note: Here Exception class refers to the base class for all the exceptions.\n",
    "Q2. Write a python program to print Python Exception Hierarchy.\n",
    "Q3. What errors are defined in the ArithmeticError class? Explain any two with an example.\n",
    "Q4. Why LookupError class is used? Explain with an example KeyError and IndexError.\n",
    "Q5. Explain ImportError. What is ModuleNotFoundError?\n",
    "Q6. List down some best practices for exception handling in python."
   ]
  },
  {
   "cell_type": "markdown",
   "id": "6d900bf6-ab7b-4cf3-bb0a-bee04db63a4c",
   "metadata": {},
   "source": [
    "Q1. Explain why we have to use the Exception class while creating a Custom Exception.\n",
    "Note: Here Exception class refers to the base class for all the exceptions."
   ]
  },
  {
   "cell_type": "markdown",
   "id": "dc4a9b53-d8a0-49fc-b04e-50bc2b399b6a",
   "metadata": {},
   "source": [
    "    1. Consistency and inheritance : inheritance from 'Exception' ensures your\n",
    "    customer exception inherits standard behaviors.\n",
    "    2. Integration: It allows seamless integration with python exception handling machanism.\n",
    "    3.best Practice: following python conventions for handaling enhances code readability and maintainability.\n",
    "    4.compatiblity : your custom exception plays well with existing code and library.\n",
    "    5.clarity : Inheiting from \"Exception\" clearly signals that your class represents an exception.\n",
    "    "
   ]
  },
  {
   "cell_type": "code",
   "execution_count": 2,
   "id": "e363ef44-3e86-4653-b29f-e00ff6bc13a5",
   "metadata": {},
   "outputs": [
    {
     "name": "stdout",
     "output_type": "stream",
     "text": [
      "Caught a custom exception : This is a customer exception.\n"
     ]
    }
   ],
   "source": [
    "# example:\n",
    "class CustomError(Exception):\n",
    "    def __init__(self,message):\n",
    "        super().__init__(message)\n",
    "\n",
    "#using the custom exception\n",
    "\n",
    "try:\n",
    "    raise CustomError(\"This is a customer exception.\")\n",
    "except CustomError as ce:\n",
    "    print(f\"Caught a custom exception : {ce}\")"
   ]
  },
  {
   "cell_type": "markdown",
   "id": "2de3537f-49e9-40fd-b820-23c4665622bd",
   "metadata": {},
   "source": [
    "Q2. Write a python program to print Python Exception Hierarchy."
   ]
  },
  {
   "cell_type": "code",
   "execution_count": 4,
   "id": "24c96797-b3bd-42c1-84a9-483046802ba9",
   "metadata": {},
   "outputs": [
    {
     "name": "stdout",
     "output_type": "stream",
     "text": [
      "Exception\n",
      "  TypeError\n",
      "    FloatOperation\n",
      "    MultipartConversionError\n",
      "  StopAsyncIteration\n",
      "  StopIteration\n",
      "  ImportError\n",
      "    ModuleNotFoundError\n",
      "    ZipImportError\n",
      "  OSError\n",
      "    ConnectionError\n",
      "      BrokenPipeError\n",
      "      ConnectionAbortedError\n",
      "      ConnectionRefusedError\n",
      "      ConnectionResetError\n",
      "        RemoteDisconnected\n",
      "    BlockingIOError\n",
      "    ChildProcessError\n",
      "    FileExistsError\n",
      "    FileNotFoundError\n",
      "    IsADirectoryError\n",
      "    NotADirectoryError\n",
      "    InterruptedError\n",
      "      InterruptedSystemCall\n",
      "    PermissionError\n",
      "    ProcessLookupError\n",
      "    TimeoutError\n",
      "    UnsupportedOperation\n",
      "    itimer_error\n",
      "    herror\n",
      "    gaierror\n",
      "    SSLError\n",
      "      SSLCertVerificationError\n",
      "      SSLZeroReturnError\n",
      "      SSLWantWriteError\n",
      "      SSLWantReadError\n",
      "      SSLSyscallError\n",
      "      SSLEOFError\n",
      "    Error\n",
      "      SameFileError\n",
      "    SpecialFileError\n",
      "    ExecError\n",
      "    ReadError\n",
      "    URLError\n",
      "      HTTPError\n",
      "      ContentTooShortError\n",
      "    BadGzipFile\n",
      "  EOFError\n",
      "    IncompleteReadError\n",
      "  RuntimeError\n",
      "    RecursionError\n",
      "    NotImplementedError\n",
      "      ZMQVersionError\n",
      "      StdinNotImplementedError\n",
      "    _DeadlockError\n",
      "    BrokenBarrierError\n",
      "    BrokenExecutor\n",
      "      BrokenThreadPool\n",
      "    SendfileNotAvailableError\n",
      "    ExtractionError\n",
      "    VariableError\n",
      "  NameError\n",
      "    UnboundLocalError\n",
      "  AttributeError\n",
      "    FrozenInstanceError\n",
      "  SyntaxError\n",
      "    IndentationError\n",
      "      TabError\n",
      "  LookupError\n",
      "    IndexError\n",
      "    KeyError\n",
      "      NoSuchKernel\n",
      "      UnknownBackend\n",
      "    CodecRegistryError\n",
      "  ValueError\n",
      "    UnicodeError\n",
      "      UnicodeEncodeError\n",
      "      UnicodeDecodeError\n",
      "      UnicodeTranslateError\n",
      "    UnsupportedOperation\n",
      "    JSONDecodeError\n",
      "    SSLCertVerificationError\n",
      "    Error\n",
      "    UnsupportedDigestmodError\n",
      "    IllegalMonthError\n",
      "    IllegalWeekdayError\n",
      "    ParserError\n",
      "    ClassNotFound\n",
      "    ClipboardEmpty\n",
      "    MessageDefect\n",
      "      NoBoundaryInMultipartDefect\n",
      "      StartBoundaryNotFoundDefect\n",
      "      CloseBoundaryNotFoundDefect\n",
      "      FirstHeaderLineIsContinuationDefect\n",
      "      MisplacedEnvelopeHeaderDefect\n",
      "      MissingHeaderBodySeparatorDefect\n",
      "      MultipartInvariantViolationDefect\n",
      "      InvalidMultipartContentTransferEncodingDefect\n",
      "      UndecodableBytesDefect\n",
      "      InvalidBase64PaddingDefect\n",
      "      InvalidBase64CharactersDefect\n",
      "      InvalidBase64LengthDefect\n",
      "      HeaderDefect\n",
      "        InvalidHeaderDefect\n",
      "        HeaderMissingRequiredValue\n",
      "        NonPrintableDefect\n",
      "        ObsoleteHeaderDefect\n",
      "        NonASCIILocalPartDefect\n",
      "        InvalidDateDefect\n",
      "    MacroToEdit\n",
      "    InvalidFileException\n",
      "    UnequalIterablesError\n",
      "    InvalidVersion\n",
      "    _InvalidELFFileHeader\n",
      "    InvalidWheelFilename\n",
      "    InvalidSdistFilename\n",
      "    InvalidSpecifier\n",
      "    InvalidMarker\n",
      "    UndefinedComparison\n",
      "    UndefinedEnvironmentName\n",
      "    InvalidRequirement\n",
      "      RequirementParseError\n",
      "    InvalidVersion\n",
      "  AssertionError\n",
      "  ArithmeticError\n",
      "    FloatingPointError\n",
      "    OverflowError\n",
      "    ZeroDivisionError\n",
      "      DivisionByZero\n",
      "      DivisionUndefined\n",
      "    DecimalException\n",
      "      Clamped\n",
      "      Rounded\n",
      "        Underflow\n",
      "        Overflow\n",
      "      Inexact\n",
      "        Underflow\n",
      "        Overflow\n",
      "      Subnormal\n",
      "        Underflow\n",
      "      DivisionByZero\n",
      "      FloatOperation\n",
      "      InvalidOperation\n",
      "        ConversionSyntax\n",
      "        DivisionImpossible\n",
      "        DivisionUndefined\n",
      "        InvalidContext\n",
      "  SystemError\n",
      "    CodecRegistryError\n",
      "  ReferenceError\n",
      "  MemoryError\n",
      "  BufferError\n",
      "  Warning\n",
      "    UserWarning\n",
      "      GetPassWarning\n",
      "      FormatterWarning\n",
      "    EncodingWarning\n",
      "    DeprecationWarning\n",
      "      ProvisionalWarning\n",
      "    PendingDeprecationWarning\n",
      "    SyntaxWarning\n",
      "    RuntimeWarning\n",
      "      ProactorSelectorThreadWarning\n",
      "      UnknownTimezoneWarning\n",
      "      PEP440Warning\n",
      "    FutureWarning\n",
      "      ProvisionalCompleterWarning\n",
      "    ImportWarning\n",
      "    UnicodeWarning\n",
      "    BytesWarning\n",
      "    ResourceWarning\n",
      "    DeprecatedTzFormatWarning\n",
      "    PkgResourcesDeprecationWarning\n",
      "  _OptionError\n",
      "  _Error\n",
      "  error\n",
      "  Verbose\n",
      "  Error\n",
      "  SubprocessError\n",
      "    CalledProcessError\n",
      "    TimeoutExpired\n",
      "  TokenError\n",
      "  StopTokenizing\n",
      "  ClassFoundException\n",
      "  EndOfBlock\n",
      "  TraitError\n",
      "  Error\n",
      "  Error\n",
      "    CancelledError\n",
      "    TimeoutError\n",
      "    InvalidStateError\n",
      "  _GiveupOnSendfile\n",
      "  error\n",
      "  Incomplete\n",
      "  TimeoutError\n",
      "  InvalidStateError\n",
      "  LimitOverrunError\n",
      "  QueueEmpty\n",
      "  QueueFull\n",
      "  Empty\n",
      "  Full\n",
      "  ArgumentError\n",
      "  ZMQBaseError\n",
      "    ZMQError\n",
      "      ContextTerminated\n",
      "      Again\n",
      "      InterruptedSystemCall\n",
      "    ZMQBindError\n",
      "    NotDone\n",
      "  PickleError\n",
      "    PicklingError\n",
      "    UnpicklingError\n",
      "  _Stop\n",
      "  ArgumentError\n",
      "  ArgumentTypeError\n",
      "  ConfigError\n",
      "    ConfigLoaderError\n",
      "      ArgumentError\n",
      "    ConfigFileNotFound\n",
      "  ConfigurableError\n",
      "    MultipleInstanceError\n",
      "  ApplicationError\n",
      "  error\n",
      "  TimeoutError\n",
      "  error\n",
      "  ReturnValueIgnoredError\n",
      "  KeyReuseError\n",
      "  UnknownKeyError\n",
      "  LeakedCallbackError\n",
      "  BadYieldError\n",
      "  ReturnValueIgnoredError\n",
      "  Return\n",
      "  InvalidPortNumber\n",
      "  error\n",
      "  LZMAError\n",
      "  RegistryError\n",
      "  _GiveupOnFastCopy\n",
      "  Error\n",
      "    NoSectionError\n",
      "    DuplicateSectionError\n",
      "    DuplicateOptionError\n",
      "    NoOptionError\n",
      "    InterpolationError\n",
      "      InterpolationMissingOptionError\n",
      "      InterpolationSyntaxError\n",
      "      InterpolationDepthError\n",
      "    ParsingError\n",
      "      MissingSectionHeaderError\n",
      "  NoIPAddresses\n",
      "  BadZipFile\n",
      "  LargeZipFile\n",
      "  BadEntryPoint\n",
      "  NoSuchEntryPoint\n",
      "  DuplicateKernelError\n",
      "  ErrorDuringImport\n",
      "  NotOneValueFound\n",
      "  CannotEval\n",
      "  OptionError\n",
      "  BdbQuit\n",
      "  Restart\n",
      "  ExceptionPexpect\n",
      "    EOF\n",
      "    TIMEOUT\n",
      "  PtyProcessError\n",
      "  FindCmdError\n",
      "  HomeDirError\n",
      "  ProfileDirError\n",
      "  IPythonCoreError\n",
      "    TryNext\n",
      "    UsageError\n",
      "    StdinNotImplementedError\n",
      "  InputRejected\n",
      "  GetoptError\n",
      "  ErrorToken\n",
      "  PrefilterError\n",
      "  AliasError\n",
      "    InvalidAliasError\n",
      "  Error\n",
      "    InterfaceError\n",
      "    DatabaseError\n",
      "      InternalError\n",
      "      OperationalError\n",
      "      ProgrammingError\n",
      "      IntegrityError\n",
      "      DataError\n",
      "      NotSupportedError\n",
      "  Warning\n",
      "  SpaceInInput\n",
      "  DOMException\n",
      "    IndexSizeErr\n",
      "    DomstringSizeErr\n",
      "    HierarchyRequestErr\n",
      "    WrongDocumentErr\n",
      "    InvalidCharacterErr\n",
      "    NoDataAllowedErr\n",
      "    NoModificationAllowedErr\n",
      "    NotFoundErr\n",
      "    NotSupportedErr\n",
      "    InuseAttributeErr\n",
      "    InvalidStateErr\n",
      "    SyntaxErr\n",
      "    InvalidModificationErr\n",
      "    NamespaceErr\n",
      "    InvalidAccessErr\n",
      "    ValidationErr\n",
      "  ValidationError\n",
      "  EditReadOnlyBuffer\n",
      "  _Retry\n",
      "  InvalidLayoutError\n",
      "  HeightIsUnknownError\n",
      "  ParserSyntaxError\n",
      "  InternalParseError\n",
      "  _PositionUpdatingFinished\n",
      "  SimpleGetItemNotFound\n",
      "  UncaughtAttributeError\n",
      "  HasNoContext\n",
      "  ParamIssue\n",
      "  _JediError\n",
      "    InternalError\n",
      "    WrongVersion\n",
      "    RefactoringError\n",
      "  OnErrorLeaf\n",
      "  InvalidPythonEnvironment\n",
      "  MessageError\n",
      "    MessageParseError\n",
      "      HeaderParseError\n",
      "      BoundaryError\n",
      "    MultipartConversionError\n",
      "    CharsetError\n",
      "  Error\n",
      "  HTTPException\n",
      "    NotConnected\n",
      "    InvalidURL\n",
      "    UnknownProtocol\n",
      "    UnknownTransferEncoding\n",
      "    UnimplementedFileMode\n",
      "    IncompleteRead\n",
      "    ImproperConnectionState\n",
      "      CannotSendRequest\n",
      "      CannotSendHeader\n",
      "      ResponseNotReady\n",
      "    BadStatusLine\n",
      "      RemoteDisconnected\n",
      "    LineTooLong\n",
      "  InteractivelyDefined\n",
      "  KillEmbedded\n",
      "  Error\n",
      "    NoSuchProcess\n",
      "      ZombieProcess\n",
      "    AccessDenied\n",
      "    TimeoutExpired\n",
      "  _Ipv6UnsupportedError\n",
      "  QueueEmpty\n",
      "  QueueFull\n",
      "  DebuggerInitializationError\n",
      "  ExpatError\n",
      "  Error\n",
      "    ProtocolError\n",
      "    ResponseError\n",
      "    Fault\n",
      "  ParseBaseException\n",
      "    ParseException\n",
      "    ParseFatalException\n",
      "      ParseSyntaxException\n",
      "  RecursiveGrammarException\n",
      "  ResolutionError\n",
      "    VersionConflict\n",
      "      ContextualVersionConflict\n",
      "    DistributionNotFound\n",
      "    UnknownExtra\n",
      "  _Error\n",
      "  UnableToResolveVariableException\n",
      "  InvalidTypeInArgsException\n",
      "  CustomError\n"
     ]
    }
   ],
   "source": [
    "def print_exception_hierarchy(exception_class,indent=0):\n",
    "    print(\" \"* indent + exception_class.__name__)\n",
    "    for subclass in exception_class.__subclasses__():\n",
    "        print_exception_hierarchy(subclass,indent+2)\n",
    "\n",
    "#start from the base exception class \n",
    "print_exception_hierarchy(Exception)"
   ]
  },
  {
   "cell_type": "markdown",
   "id": "8bce3a75-9ba0-49f0-aed9-e645391b43ca",
   "metadata": {},
   "source": [
    "Q3. What errors are defined in the ArithmeticError class? Explain any two with an example."
   ]
  },
  {
   "cell_type": "markdown",
   "id": "fde957a1-5f20-4960-beca-27783dbc8063",
   "metadata": {},
   "source": [
    "The \"ArithmaticError\" class is base class for exceptions that occure during aeithmetic operations.\n",
    "    \n",
    "        Its subvlass of the \"Exception\" class and serves as the base class for variety of arithmetic related exceptions in python"
   ]
  },
  {
   "cell_type": "markdown",
   "id": "ea3e4cc0-1724-4565-a48c-b65d9e3e36a7",
   "metadata": {},
   "source": [
    "    1. ZeroDivisionError\n",
    "        \n",
    "        Raised when attempting to divide a number by zero \n",
    "     \n",
    "            "
   ]
  },
  {
   "cell_type": "code",
   "execution_count": 8,
   "id": "be60053f-231a-40e6-b994-cf447b0e1c75",
   "metadata": {},
   "outputs": [
    {
     "name": "stdout",
     "output_type": "stream",
     "text": [
      "Error : division by zero\n"
     ]
    }
   ],
   "source": [
    "   # example:\n",
    "try: \n",
    "    result =10/0\n",
    "except ZeroDivisionError as ze:\n",
    "    print(f\"Error : {ze}\")"
   ]
  },
  {
   "cell_type": "markdown",
   "id": "67695625-b38d-4061-9fc0-7b212484dde6",
   "metadata": {},
   "source": [
    "    2. OverflowError:\n",
    "        \n",
    "        Raised when the result of an arithmatic operation is too large to be represented within the limit of data type\n",
    "    "
   ]
  },
  {
   "cell_type": "code",
   "execution_count": 17,
   "id": "f35ba738-20d7-4b43-98fa-a542205614b9",
   "metadata": {},
   "outputs": [
    {
     "name": "stdout",
     "output_type": "stream",
     "text": [
      "Errot : (34, 'Numerical result out of range')\n"
     ]
    }
   ],
   "source": [
    "# Example \n",
    "import sys\n",
    "try:\n",
    "    result=sys.float_info.max**2 # rsiase Overflow Error for excessively large result \n",
    "except OverflowError as o:\n",
    "    print(f\"Errot : {o}\")"
   ]
  },
  {
   "cell_type": "markdown",
   "id": "2c6e6204-720f-4ac3-8272-c6f9dd2950f0",
   "metadata": {},
   "source": [
    "Q4. Why LookupError class is used? Explain with an example KeyError and IndexError."
   ]
  },
  {
   "cell_type": "markdown",
   "id": "c08c7e5b-bd44-4fe1-bfa3-918af8635c2a",
   "metadata": {},
   "source": [
    "Solution:"
   ]
  },
  {
   "cell_type": "markdown",
   "id": "7d2ef1e5-3b07-4908-9ab9-4dcab2279087",
   "metadata": {},
   "source": [
    "LockupError class in python is base class for exceptions that occure when a key or\n",
    "index is not found."
   ]
  },
  {
   "cell_type": "markdown",
   "id": "512d4086-1238-41dd-b2dc-81bc0614c25b",
   "metadata": {},
   "source": [
    "2 commonly encountered exceptions derived from \"lookupError\""
   ]
  },
  {
   "cell_type": "markdown",
   "id": "066bfdff-025c-4725-a5a5-7fef8b76aee8",
   "metadata": {},
   "source": [
    "1. KeyError : \n",
    "        \n",
    "        1. Raised when trying to access a key that is not present in a dictionary.\n",
    "        "
   ]
  },
  {
   "cell_type": "code",
   "execution_count": 1,
   "id": "f46d6fad-cf8d-45c1-84d9-4dd5d34ad803",
   "metadata": {},
   "outputs": [
    {
     "name": "stdout",
     "output_type": "stream",
     "text": [
      "Error : 'gender'\n"
     ]
    }
   ],
   "source": [
    "# Example:\n",
    "my_dict={\"name\": \"shubham\", \"age\": 25}\n",
    "try:\n",
    "    value= my_dict[\"gender\"] # raise keyword error since \"gender\" key is not present \n",
    "except KeyError as e:\n",
    "    print(f\"Error : {e}\")"
   ]
  },
  {
   "cell_type": "markdown",
   "id": "19400319-5761-4d91-92cb-b27b3928475f",
   "metadata": {},
   "source": [
    "    2. IndexError:\n",
    "        \n",
    "        1. Raised when trying to access an index that is outside the range of sequence \n",
    "        (e.g a list or a string )"
   ]
  },
  {
   "cell_type": "code",
   "execution_count": 3,
   "id": "86305b6f-ed5d-48c3-b96d-67a1563ccef2",
   "metadata": {},
   "outputs": [
    {
     "name": "stdout",
     "output_type": "stream",
     "text": [
      "Error : list index out of range\n"
     ]
    }
   ],
   "source": [
    "my_list=[1,2,3,4,5,6,7,8,9,10]\n",
    "\n",
    "try:\n",
    "    element =my_list[12] #raise index error since index 12 is out of range \n",
    "except IndexError as e:\n",
    "    print(f\"Error : {e}\")"
   ]
  },
  {
   "cell_type": "markdown",
   "id": "94fab19e-ca80-484a-adb7-d5ba79c36157",
   "metadata": {},
   "source": [
    "Q5. Explain ImportError. What is ModuleNotFoundError?"
   ]
  },
  {
   "cell_type": "markdown",
   "id": "aaa81062-5f1e-4c29-a0b4-68dc6e371231",
   "metadata": {},
   "source": [
    "Solution:\n",
    "    \n",
    "    1. ImportError is base class for exceptions that occur when the import\n",
    "    statement cant find the module, or when there is an issue during the process of \n",
    "    importing a module. \n",
    "    2. Its a subclass of the more general \"Exception\" class and is used to handle various \n",
    "    import -related errors.\n",
    "    \n",
    "one specific subclass of \"ImportError\" is \"ModuleNotFoundError\",which is raised when the \n",
    "specified module cannot be found."
   ]
  },
  {
   "cell_type": "code",
   "execution_count": 6,
   "id": "c8adac86-7cef-4ce5-b031-c4a5c13b293c",
   "metadata": {},
   "outputs": [
    {
     "name": "stdout",
     "output_type": "stream",
     "text": [
      "ImportError : No module named 'non_existent_module'\n"
     ]
    }
   ],
   "source": [
    "# Example 1 of ImportError:\n",
    "try:\n",
    "    import non_existent_module\n",
    "except ImportError as e:\n",
    "    print(f\"ImportError : {e}\")"
   ]
  },
  {
   "cell_type": "markdown",
   "id": "0dbfffbb-a237-4473-9ccb-26347986851c",
   "metadata": {},
   "source": [
    "Example of moduleNot Found Error:"
   ]
  },
  {
   "cell_type": "code",
   "execution_count": 8,
   "id": "831f7405-04d2-455e-85b0-89b3ce0b626d",
   "metadata": {},
   "outputs": [
    {
     "name": "stdout",
     "output_type": "stream",
     "text": [
      "ModuleNotFoundError: No module named 'non_existent_pack'\n"
     ]
    }
   ],
   "source": [
    "# Example 2 of ImportError :\n",
    "try:\n",
    "    from non_existent_pack import some_function\n",
    "except ModuleNotFoundError as e:\n",
    "    print(f\"ModuleNotFoundError: {e}\")"
   ]
  },
  {
   "cell_type": "markdown",
   "id": "839de95b-47bf-49ec-b897-9836a6e3ed97",
   "metadata": {},
   "source": [
    "Q6. List down some best practices for exception handling in python."
   ]
  },
  {
   "cell_type": "markdown",
   "id": "81043283-39ae-47ea-9398-1f75b2394b05",
   "metadata": {},
   "source": [
    "# Solution \n",
    "\n",
    "1. Specific Exception Catching:\n",
    "\n",
    "        Catch specific exceptions rather than using a broad \"except\" caluse.\n",
    "        this allows you to handle diffrent exceptions diffrently and improves code clarity."
   ]
  },
  {
   "cell_type": "code",
   "execution_count": 16,
   "id": "e7ad01d1-1296-448e-8d26-59b112e5b7a2",
   "metadata": {},
   "outputs": [],
   "source": [
    "try :\n",
    "    pass\n",
    "except SpecificError as se:\n",
    "    print({se})\n",
    "except AnotherError as ae:\n",
    "    print({ae})\n",
    "    \n",
    "    "
   ]
  },
  {
   "cell_type": "markdown",
   "id": "d5ab160b-abf0-4527-acee-ef3936b090f7",
   "metadata": {},
   "source": [
    "2. Use \"finally\" for Cleanup:\n",
    "\n",
    "    *Utilize the finally block for code that should be executed regardless of whether an exception occured . common use cases include cleanup operations."
   ]
  },
  {
   "cell_type": "code",
   "execution_count": 31,
   "id": "64bca128-0fa6-457f-943f-4a54615bcdde",
   "metadata": {},
   "outputs": [],
   "source": [
    "try:\n",
    "    pass\n",
    "    # code that may raise an exception\n",
    "except SomeError as e:\n",
    "    pass\n",
    "    # handle SomeError\n",
    "finally:\n",
    "    pass\n",
    "    # cleanup code (always executed)"
   ]
  },
  {
   "cell_type": "markdown",
   "id": "25a3d3bf-655d-4973-8aef-b6a849e5adf9",
   "metadata": {},
   "source": [
    "3. Avoid Bare \"except\" Clauses:"
   ]
  },
  {
   "cell_type": "markdown",
   "id": "c0a52ba9-bfe7-4c0d-bc59-68d3f52a6a60",
   "metadata": {},
   "source": [
    "Avoid using bare except clauses as they catch all exceptions and may hide bugs.\n",
    "be explicit about the exceptions you expect "
   ]
  },
  {
   "cell_type": "code",
   "execution_count": 34,
   "id": "3bec5f68-fd47-42d1-ac4a-b5100e570057",
   "metadata": {},
   "outputs": [],
   "source": [
    "# Avoid \n",
    "try:\n",
    "    pass\n",
    "    #code that may raise an exceptions \n",
    "except:\n",
    "    pass\n",
    "    # generic exception handling \n",
    "\n",
    "#prefer\n",
    "try:\n",
    "    pass\n",
    "    #code that may raise an exceptions\n",
    "except SpecificError as se:\n",
    "    pass\n",
    "    # handle Specific Error \n",
    "    "
   ]
  },
  {
   "cell_type": "markdown",
   "id": "fe0ae5ff-14fb-4a81-9b6c-c24b91c25fa3",
   "metadata": {},
   "source": [
    "4. Logging Exceptions:"
   ]
  },
  {
   "cell_type": "markdown",
   "id": "90f68fd6-0211-4589-9434-b1b61dd67e77",
   "metadata": {},
   "source": [
    "Logging module for exception logging instead of just printing , providing mode control on\n",
    "integration"
   ]
  },
  {
   "cell_type": "code",
   "execution_count": 42,
   "id": "71fb13bb-ad32-4f9d-b5f0-e4c78645f4a4",
   "metadata": {},
   "outputs": [],
   "source": [
    "import logging\n",
    "try:\n",
    "    # code that may raise an exception\n",
    "    pass\n",
    "except SomeError as e:\n",
    "    logging.error(f\"An Error occurred : {e}\")"
   ]
  },
  {
   "cell_type": "markdown",
   "id": "9c932e3c-3a61-44c2-abd7-6c93beddf2d9",
   "metadata": {},
   "source": [
    "5. Keep exception handing Local:\n",
    "\n",
    "    Keep exception handling code close to the code that may raise exceptions . \n",
    "    avoid handling exceptions to globally as it can make the code harder to \n",
    "    understand and maintain."
   ]
  },
  {
   "cell_type": "code",
   "execution_count": 44,
   "id": "a4e3f14f-86a0-4b45-b2fa-c7365d920506",
   "metadata": {},
   "outputs": [],
   "source": [
    "def some_function():\n",
    "    try:\n",
    "        # code that may raise an exception \n",
    "        pass\n",
    "    except SomeError as e:\n",
    "        pass\n",
    "        #handle SomeError "
   ]
  },
  {
   "cell_type": "markdown",
   "id": "875abb71-e201-4526-aef4-0751c3b3c5da",
   "metadata": {},
   "source": [
    "6. Raising Custom Exceptions:\n",
    "    \n",
    "    When appropriate , raise custom exceptions to provide more context about error .\n",
    "    this can make it easier to understand and handle error in higher -level code."
   ]
  },
  {
   "cell_type": "code",
   "execution_count": 47,
   "id": "58547934-5c0c-4569-8ee3-01d758d7bd74",
   "metadata": {},
   "outputs": [
    {
     "name": "stdout",
     "output_type": "stream",
     "text": [
      "Error ::This is a custom Error\n"
     ]
    }
   ],
   "source": [
    "class CustomError(Exception):\n",
    "    pass\n",
    "try:\n",
    "    # Code that may raise an exception\n",
    "    raise CustomError(\"This is a custom Error\")\n",
    "except CustomError as ce:\n",
    "    print(f\"Error ::{ce}\")"
   ]
  },
  {
   "cell_type": "markdown",
   "id": "d0a0b98b-536d-400c-9111-4a1e5253d9b3",
   "metadata": {},
   "source": [
    "7. Document Exceptions:\n",
    "    \n",
    "    this is raised function or methods may raise using docstring.\n",
    "    this help other developer understand how to handle potential error"
   ]
  },
  {
   "cell_type": "code",
   "execution_count": 49,
   "id": "bdf8d30c-9a8f-4e70-9cd7-9e9a9f69fda3",
   "metadata": {},
   "outputs": [],
   "source": [
    "def my_function():\n",
    "    \n",
    "    \"\"\" \n",
    "    perform some operations.\n",
    "    \n",
    "    Raises:\n",
    "    \n",
    "    ValueError : if the input is invalid \n",
    "    \n",
    "    \"\"\"\n",
    "    ## code that raised error "
   ]
  },
  {
   "cell_type": "markdown",
   "id": "76ce4a76-cd72-4913-9779-0cbbfbfa0308",
   "metadata": {},
   "source": [
    "8. use \"else\" wirh \"try\" blocks:\n",
    "\n",
    "use the else caluse with try bocks for code that shoudl run when no exceptions occur\n",
    "this improves readability by separating exception - handling code from the main logic.\n"
   ]
  },
  {
   "cell_type": "code",
   "execution_count": 52,
   "id": "876123af-a2cd-401d-a688-101f43031736",
   "metadata": {},
   "outputs": [],
   "source": [
    "try:\n",
    "    # code that may raise an exception\n",
    "    pass\n",
    "except someError as e:\n",
    "    pass\n",
    "    #handle Someerror \n",
    "else:\n",
    "    pass\n",
    "    # code to execute if no exception occured "
   ]
  },
  {
   "cell_type": "markdown",
   "id": "d58206fa-2324-47de-8aee-080e19ba9b21",
   "metadata": {},
   "source": [
    "9: Handling exceptions at athe right level:\n",
    "    \n",
    "    handling exception at a level in the code where ther eis enough context to make meaningful decision .\n",
    "    avoid catching exceptions  too early if higher level code can provide better error handling "
   ]
  },
  {
   "cell_type": "code",
   "execution_count": 55,
   "id": "e7621d94-7201-44bc-9dd6-34440ed103a3",
   "metadata": {},
   "outputs": [],
   "source": [
    "try:\n",
    "    #code that may raise an exception\n",
    "    pass\n",
    "except SomeError as e:\n",
    "    # handling SomeError at the appropriate level \n",
    "    pass"
   ]
  },
  {
   "cell_type": "markdown",
   "id": "e27ca066-26ef-46fe-83b5-745607ffcba6",
   "metadata": {},
   "source": [
    "10: avoid unnecessary Exception handling :\n",
    "    \n",
    "    Only use exception handling for exceptional situatons.\n",
    "    avoid using exceptions for flow control as it can make the code less \n",
    "    readable and negatively impact performance.\n",
    "    "
   ]
  },
  {
   "cell_type": "code",
   "execution_count": 57,
   "id": "9f07ed21-fb58-4e47-a1c3-c19dabd0aa6d",
   "metadata": {},
   "outputs": [],
   "source": [
    "#avoid\n",
    "\n",
    "try:\n",
    "    value= my_dict[\"key\"]\n",
    "except KeyError:\n",
    "    value=None\n",
    "\n",
    "#prefer\n",
    "\n",
    "if 'key' in my_dict:\n",
    "    value = my_dict['key']\n",
    "else:\n",
    "    value =None\n"
   ]
  },
  {
   "cell_type": "code",
   "execution_count": null,
   "id": "33b2325b-015d-4383-8304-f23814e59688",
   "metadata": {},
   "outputs": [],
   "source": [
    "Ther"
   ]
  }
 ],
 "metadata": {
  "kernelspec": {
   "display_name": "Python 3 (ipykernel)",
   "language": "python",
   "name": "python3"
  },
  "language_info": {
   "codemirror_mode": {
    "name": "ipython",
    "version": 3
   },
   "file_extension": ".py",
   "mimetype": "text/x-python",
   "name": "python",
   "nbconvert_exporter": "python",
   "pygments_lexer": "ipython3",
   "version": "3.10.8"
  }
 },
 "nbformat": 4,
 "nbformat_minor": 5
}
