{
 "cells": [
  {
   "cell_type": "raw",
   "id": "ceb74013-e0e8-4a44-ae4a-6a23e70ecd08",
   "metadata": {},
   "source": [
    "Q1. How do you comment code in Python? What are the different types of comments?\n",
    "Q2. What are variables in Python? How do you declare and assign values to variables?\n",
    "Q3. How do you convert one data type to another in Python?\n",
    "Q4. How do you write and execute a Python script from the command line?\n",
    "Q5. Given a list my_list = [1, 2, 3, 4, 5], write the code to slice the list and obtain the sub-list [2, 3].\n",
    "Q6. What is a complex number in mathematics, and how is it represented in Python?\n",
    "Q7. What is the correct way to declare a variable named age and assign the value 25 to it?\n",
    "Q8. Declare a variable named price and assign the value 9.99 to it. What data type does this variable belong to?\n",
    "Q9. Create a variable named name and assign your full name to it as a string. How would you print the value of this variable?\n",
    "Q10. Given the string \"Hello, World!\", extract the substring \"World\".\n",
    "Q11. Create a variable named \"is_student\" and assign it a boolean value indicating whether you are currently a student or not."
   ]
  },
  {
   "cell_type": "markdown",
   "id": "16feef24-317c-4d08-b1a8-6dae2b49cb56",
   "metadata": {},
   "source": [
    "Q1. How do you comment code in Python? What are the different types of comments?"
   ]
  },
  {
   "cell_type": "markdown",
   "id": "015238ee-ee20-4409-9bd2-0f26c767f833",
   "metadata": {
    "tags": []
   },
   "source": [
    "Solution:\n",
    "\n",
    "i.comment code in python by:\n",
    "    \n",
    "    1. # single line comment , # ignored by interpriter and consider as a comment.\n",
    "\n",
    "code:\n",
    "\n",
    "    # single line comment \n",
    "    print(\"example for single line comment\")\n",
    "\n",
    "\n",
    "2. ('''text''') or (\"\"\" text\"\"\"\") single quotation or double quotation for multiline comments\n",
    "\n",
    "        code:\n",
    "        '''\n",
    "        multiple line comment\n",
    "\n",
    "        more then one line comment\n",
    "        '''\n",
    "        print(\"example for multiline comment\")\n",
    "\n",
    "\n",
    "\n",
    "\n",
    "\n",
    "ii. Diffrent Types of comments:\n",
    "\n",
    "    1. Single-Line Comments\n",
    "    2. Multiline Comments \n",
    "    3. Python Docstrings (__doc__) attribute acces.\n"
   ]
  },
  {
   "cell_type": "markdown",
   "id": "3af325ff-0fd4-4b09-bc15-f91a3ea85f25",
   "metadata": {},
   "source": [
    "Q2. What are variables in Python? How do you declare and assign values to variables?"
   ]
  },
  {
   "cell_type": "markdown",
   "id": "7c2f6f20-5c89-4efd-9710-54fcec5d2ee3",
   "metadata": {},
   "source": [
    "    Solution:\n",
    "    \n",
    "    1.variable is a name which refer to store value in computer memroy.\n",
    "    2.variable allow you to store and manipulate values in programs.\n",
    "    3.In python dont need explacitly declare data types for variables.\n",
    "    4.Interpriter infer the type based on value assign to it.\n",
    "\n",
    "\n",
    "Declare and assign valuesto variables:\n",
    "1.Declare a variable:\n",
    "\n",
    "      i.choose name for variable \n",
    "     ii.avoid using python reserve words as a variable name\n",
    " \n",
    " \n",
    "2.Assign Value:\n",
    "\n",
    "    i.use a assignment operator ( = ) \n",
    "\n",
    "Example for declaration and assignment:\n",
    "\n",
    "    age = 25\n",
    "    name=\"shubham\"\n",
    "    Salary =48000\n",
    "    is_student = False\n",
    "\n",
    "3.Reassigning Values:\n",
    "\n",
    "    i. Change value of variable by assigning new value to it.\n",
    "    \n",
    "Example for ressigning of values:\n",
    "\n",
    "    age=25\n",
    "    print(age) # output =25\n",
    "\n",
    "    age =30\n",
    "    print(age) # output=30\n",
    "\n",
    "\n",
    "\n",
    "4.Multiple Assignment:\n",
    "    \n",
    "    i. assign value to multiple variable in single line\n",
    "    \n",
    "Example multiple assignement:\n",
    "\n",
    "    x,y,z=10,20,30 \n",
    "    \n"
   ]
  },
  {
   "cell_type": "markdown",
   "id": "a2f640d7-b74e-4efb-9960-2e4f32a80e25",
   "metadata": {},
   "source": [
    "Q.3 How do you convert one data type to another in Python?"
   ]
  },
  {
   "cell_type": "markdown",
   "id": "91b1575a-f3eb-46c1-9d3e-cffbf251cd61",
   "metadata": {},
   "source": [
    "Solution:\n",
    "1. Integer Conversion "
   ]
  },
  {
   "cell_type": "code",
   "execution_count": 22,
   "id": "2aa7454e-90b2-4eb5-a1b9-4c65d08f858d",
   "metadata": {},
   "outputs": [
    {
     "name": "stdout",
     "output_type": "stream",
     "text": [
      "3\n"
     ]
    }
   ],
   "source": [
    "# convert flot to integer :\n",
    "float_number = 3.149856\n",
    "int_number =int(float_number)\n",
    "print(int_number)"
   ]
  },
  {
   "cell_type": "markdown",
   "id": "453fc705-0b81-43c1-8a44-8b34af185676",
   "metadata": {
    "jp-MarkdownHeadingCollapsed": true,
    "tags": []
   },
   "source": [
    "2. Float Conversion"
   ]
  },
  {
   "cell_type": "code",
   "execution_count": 25,
   "id": "ff03948c-47cb-42ff-bb27-09abed2e66e7",
   "metadata": {},
   "outputs": [
    {
     "name": "stdout",
     "output_type": "stream",
     "text": [
      "566.0\n"
     ]
    }
   ],
   "source": [
    "# int to float\n",
    "int_number= 566\n",
    "float_number=float(int_number)\n",
    "print(float_number)"
   ]
  },
  {
   "cell_type": "markdown",
   "id": "ba2094ed-dee7-4dd7-b29b-d13315dc1307",
   "metadata": {},
   "source": [
    "3. String Conversion "
   ]
  },
  {
   "cell_type": "code",
   "execution_count": 27,
   "id": "7ad2d7b9-b669-46bd-8b15-8873c61f5360",
   "metadata": {},
   "outputs": [
    {
     "name": "stdout",
     "output_type": "stream",
     "text": [
      "99\n"
     ]
    },
    {
     "data": {
      "text/plain": [
       "str"
      ]
     },
     "execution_count": 27,
     "metadata": {},
     "output_type": "execute_result"
    }
   ],
   "source": [
    "# convert int to string \n",
    "int_number=99\n",
    "string=str(int_number)\n",
    "print (string)\n",
    "type(string)"
   ]
  },
  {
   "cell_type": "markdown",
   "id": "95c450ef-bf19-4f66-84ca-970c05dece32",
   "metadata": {},
   "source": [
    "4. List ,tuple ,set conversion "
   ]
  },
  {
   "cell_type": "code",
   "execution_count": 9,
   "id": "8082de7f-80e4-4f2f-85bb-2b1c16d884ae",
   "metadata": {},
   "outputs": [
    {
     "name": "stdout",
     "output_type": "stream",
     "text": [
      "[1, 2, 3]\n"
     ]
    }
   ],
   "source": [
    "#convert tuple to list \n",
    "tuple_set =(1,2,3)\n",
    "list_set=list(tuple_set)\n",
    "print(list_set)"
   ]
  },
  {
   "cell_type": "code",
   "execution_count": 28,
   "id": "489b2ecb-9185-479e-b49e-9a8273c908b6",
   "metadata": {},
   "outputs": [
    {
     "name": "stdout",
     "output_type": "stream",
     "text": [
      "{99, 125.99, 'shubham'}\n"
     ]
    }
   ],
   "source": [
    "#convet list to set:\n",
    "list_set =[99,\"shubham\",125.99]\n",
    "set_data= set(list_set)\n",
    "print(set_data)"
   ]
  },
  {
   "cell_type": "markdown",
   "id": "1a142336-d4b4-46e2-b0c4-7cc45fd06b8a",
   "metadata": {},
   "source": [
    "5. list of string to string "
   ]
  },
  {
   "cell_type": "code",
   "execution_count": 29,
   "id": "66ca8cf0-d4aa-472b-8f45-23cb7f77274b",
   "metadata": {},
   "outputs": [
    {
     "name": "stdout",
     "output_type": "stream",
     "text": [
      "shubham_singh\n"
     ]
    }
   ],
   "source": [
    "#covert list of string to single string:\n",
    "list_of_string=[\"shubham\",\"singh\"]\n",
    "single_string='_'.join(list_of_string)\n",
    "print(single_string)"
   ]
  },
  {
   "cell_type": "markdown",
   "id": "eb46e3ed-63cb-41f2-802c-238ed9171f23",
   "metadata": {},
   "source": [
    "6. string to numeric conversion"
   ]
  },
  {
   "cell_type": "code",
   "execution_count": 18,
   "id": "8ee16f72-d204-4659-ad17-53c0ce566298",
   "metadata": {},
   "outputs": [
    {
     "name": "stdout",
     "output_type": "stream",
     "text": [
      "99\n"
     ]
    }
   ],
   "source": [
    "#convert string to int:\n",
    "str_num=\"99\"\n",
    "int_num=int(str_num)\n",
    "print(int_num)"
   ]
  },
  {
   "cell_type": "code",
   "execution_count": 20,
   "id": "89f3fd06-795e-4cc1-af87-580216c7b441",
   "metadata": {},
   "outputs": [
    {
     "name": "stdout",
     "output_type": "stream",
     "text": [
      "3.149888\n"
     ]
    }
   ],
   "source": [
    "#convert string to float:\n",
    "str_float=\"3.149888\"\n",
    "float_data=float(str_float)\n",
    "print(float_data)"
   ]
  },
  {
   "cell_type": "markdown",
   "id": "a3d6e565-fb55-40f1-81a2-5c8632e2274c",
   "metadata": {},
   "source": [
    "Q4. How do you write and execute a Python script from the command line?"
   ]
  },
  {
   "cell_type": "markdown",
   "id": "06317d53-edf6-4a3b-8d37-9a24c5f6fac4",
   "metadata": {},
   "source": [
    "Solution:\n",
    "1. write python script with .py extension \n",
    "2. save the script with valid name \n",
    "3. open command line or terminal\n",
    "4. navigate the script directory ,use the 'cd' command to go to directory \n",
    "5. execute the script ,run the script with filename.py"
   ]
  },
  {
   "cell_type": "markdown",
   "id": "3d8cb18a-54a9-499e-ab80-7bf8d60e2343",
   "metadata": {},
   "source": [
    "Q5. Given a list my_list = [1, 2, 3, 4, 5], write the code to slice the list and obtain the sub-list [2, 3]."
   ]
  },
  {
   "cell_type": "markdown",
   "id": "67769096-4a74-44ff-88ae-87fea23b8289",
   "metadata": {},
   "source": [
    "Solution:"
   ]
  },
  {
   "cell_type": "code",
   "execution_count": 41,
   "id": "1c2ab8c4-5685-4e95-8ec2-24e731bcf87a",
   "metadata": {},
   "outputs": [
    {
     "name": "stdout",
     "output_type": "stream",
     "text": [
      "[2, 3]\n"
     ]
    }
   ],
   "source": [
    "my_list = [1, 2, 3, 4, 5]\n",
    "sub_list=my_list[1:3] # [start index : End Index]\n",
    "print(sub_list)"
   ]
  },
  {
   "cell_type": "markdown",
   "id": "a5bb1b75-2719-484f-ac29-2f7fcc44c72b",
   "metadata": {},
   "source": [
    "Q6. What is a complex number in mathematics, and how is it represented in Python?"
   ]
  },
  {
   "cell_type": "markdown",
   "id": "8aa732fa-cfa9-4a18-bc86-64da053705f7",
   "metadata": {},
   "source": [
    "Solution:\n",
    "\n",
    "    1.complex number is number which consists of real and imaginary part.\n",
    "    2.its represented in \"a+bi\",where a is real and b is imaginry part , i is imaginary unit \n",
    "    3.in python number can be represneted using complex data type.\n",
    "    4.in python imaginary part deoted by a sufix j.\n",
    "\n"
   ]
  },
  {
   "cell_type": "code",
   "execution_count": 2,
   "id": "720dab94-ea3a-4ba4-8587-4ffb47a82009",
   "metadata": {},
   "outputs": [
    {
     "name": "stdout",
     "output_type": "stream",
     "text": [
      "sum: (5-4j)\n",
      "diff_comx : (-1+14j)\n",
      "product_complex  (51-3j)\n",
      "Quotient_complex number (-0.4333333333333333+0.36666666666666664j)\n"
     ]
    }
   ],
   "source": [
    "#example of complex data type:\n",
    "#creating complex number \n",
    "z1=2+5j # 2 is real and 5 is imaginary \n",
    "z2=3-9j # 3 is rela and -9 is imaginary \n",
    "\n",
    "# operation with complex number:\n",
    "sum_comx=z1+z2\n",
    "diff_comx=z1-z2\n",
    "product_comx=z1*z2\n",
    "quotient_comx=z1/z2\n",
    "\n",
    "# display result:\n",
    "\n",
    "print(\"sum:\",sum_comx)\n",
    "print(\"diff_comx :\",diff_comx)\n",
    "print(\"product_complex \", product_comx)\n",
    "print(\"Quotient_complex number\",quotient_comx)\n",
    "\n"
   ]
  },
  {
   "cell_type": "markdown",
   "id": "5a6c99b4-f1ea-4458-8bf7-b4b8a2b63e6f",
   "metadata": {},
   "source": [
    "Q7. What is the correct way to declare a variable named age and assign the value 25 to it?"
   ]
  },
  {
   "cell_type": "markdown",
   "id": "5d59749f-6c14-4fcf-acda-793e93fb7884",
   "metadata": {},
   "source": [
    "Solution:"
   ]
  },
  {
   "cell_type": "code",
   "execution_count": 4,
   "id": "a62eb7fb-9b9b-4426-bda4-d436537559ec",
   "metadata": {},
   "outputs": [
    {
     "name": "stdout",
     "output_type": "stream",
     "text": [
      "25\n"
     ]
    }
   ],
   "source": [
    "#variable assign by simple equal to operator \n",
    "age=25\n",
    "print(age) # check assignment "
   ]
  },
  {
   "cell_type": "markdown",
   "id": "e9a38571-adce-48f1-a31b-e152924e928e",
   "metadata": {},
   "source": [
    "Q8. Declare a variable named price and assign the value 9.99 to it. What data type does this variable belong to?"
   ]
  },
  {
   "cell_type": "markdown",
   "id": "a74db474-4eae-4a07-8a3f-cfabff0257bc",
   "metadata": {},
   "source": [
    "Solution:"
   ]
  },
  {
   "cell_type": "code",
   "execution_count": 8,
   "id": "2a7f16f9-b28f-42cd-8956-a2aeb9a7ce96",
   "metadata": {},
   "outputs": [
    {
     "data": {
      "text/plain": [
       "float"
      ]
     },
     "execution_count": 8,
     "metadata": {},
     "output_type": "execute_result"
    }
   ],
   "source": [
    "#declaration of variable name price:\n",
    "price=9.99\n",
    "\n",
    "# \"price\" variable belog to float data type\n",
    "\n",
    "#checking data type of price variable:\n",
    "type(price)"
   ]
  },
  {
   "cell_type": "markdown",
   "id": "dc013d24-b872-4428-b206-74e16018e2ac",
   "metadata": {},
   "source": [
    "Q9. Create a variable named name and assign your full name to it as a string. How would you print the value of this variable?"
   ]
  },
  {
   "cell_type": "code",
   "execution_count": 11,
   "id": "11e1870b-e1b6-4400-97e2-318ee2ecf6da",
   "metadata": {},
   "outputs": [
    {
     "name": "stdout",
     "output_type": "stream",
     "text": [
      "Shubham Rajiv Singh\n"
     ]
    },
    {
     "data": {
      "text/plain": [
       "str"
      ]
     },
     "execution_count": 11,
     "metadata": {},
     "output_type": "execute_result"
    }
   ],
   "source": [
    "#createing variable name \n",
    "name=\"Shubham Rajiv Singh\"\n",
    "\n",
    "#print value of variable \n",
    "print(name)\n",
    "type(name)"
   ]
  },
  {
   "cell_type": "markdown",
   "id": "c9f75815-b1d3-4339-aeed-2c282d2cc372",
   "metadata": {},
   "source": [
    "Q10. Given the string \"Hello, World!\", extract the substring \"World\"."
   ]
  },
  {
   "cell_type": "code",
   "execution_count": 24,
   "id": "f340f4e5-3d1b-4196-a443-4fc046f5fd76",
   "metadata": {},
   "outputs": [
    {
     "name": "stdout",
     "output_type": "stream",
     "text": [
      " World\n"
     ]
    }
   ],
   "source": [
    "input_string=\"Hello, World!\"\n",
    "\n",
    "extract_string=input_string[6:12]\n",
    "print(extract_string)"
   ]
  },
  {
   "cell_type": "markdown",
   "id": "8f84ab56-6959-4a30-937f-7bc1a76b0997",
   "metadata": {},
   "source": [
    "Q11. Create a variable named \"is_student\" and assign it a boolean value indicating whether you are currently a student or not."
   ]
  },
  {
   "cell_type": "code",
   "execution_count": 26,
   "id": "1bf7d8a1-8246-4864-a09a-6e291e201c3c",
   "metadata": {},
   "outputs": [
    {
     "data": {
      "text/plain": [
       "bool"
      ]
     },
     "execution_count": 26,
     "metadata": {},
     "output_type": "execute_result"
    }
   ],
   "source": [
    "# Create a variable named \n",
    "is_student=True\n",
    "\n",
    "#check data type of is_student variable\n",
    "type(is_student)"
   ]
  }
 ],
 "metadata": {
  "kernelspec": {
   "display_name": "Python 3 (ipykernel)",
   "language": "python",
   "name": "python3"
  },
  "language_info": {
   "codemirror_mode": {
    "name": "ipython",
    "version": 3
   },
   "file_extension": ".py",
   "mimetype": "text/x-python",
   "name": "python",
   "nbconvert_exporter": "python",
   "pygments_lexer": "ipython3",
   "version": "3.10.8"
  }
 },
 "nbformat": 4,
 "nbformat_minor": 5
}
