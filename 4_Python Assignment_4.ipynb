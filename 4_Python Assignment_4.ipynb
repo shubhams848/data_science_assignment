{
 "cells": [
  {
   "cell_type": "raw",
   "id": "630e1811-7990-4382-a9e5-966dc5c71ae0",
   "metadata": {},
   "source": [
    "Q1. Create a python program to sort the given list of tuples based on integer value using a\n",
    "lambda function.[('Sachin Tendulkar', 34357), ('Ricky Ponting', 27483), ('Jack Kallis', 25534), ('Virat Kohli', 24936)]\n",
    "Q2. Write a Python Program to find the squares of all the numbers in the given list of integers using\n",
    "lambda and map functions.[1, 2, 3, 4, 5, 6, 7, 8, 9, 10]\n",
    "Q3. Write a python program to convert the given list of integers into a tuple of strings. Use map and\n",
    "lambda functions Given String: [1, 2, 3, 4, 5, 6, 7, 8, 9, 10]\n",
    "Expected output: ('1', '2', '3', '4', '5', '6', '7', '8', '9', '10')\n",
    "Q4. Write a python program using reduce function to compute the product of a list containing numbers\n",
    "from 1 to 25. \n",
    "Q5. Write a python program to filter the numbers in a given list that are divisible by 2 and 3 using the\n",
    "filter function.[2, 3, 6, 9, 27, 60, 90, 120, 55, 46]\n",
    "Q6. Write a python program to find palindromes in the given list of strings using lambda and filter\n",
    "function.['python', 'php', 'aba', 'radar', 'level']"
   ]
  },
  {
   "cell_type": "markdown",
   "id": "106f4617-9ea8-4f37-8c27-f038d5016209",
   "metadata": {},
   "source": [
    "Q1. Create a python program to sort the given list of tuples based on integer value using a\n",
    "lambda function.[('Sachin Tendulkar', 34357), ('Ricky Ponting', 27483), ('Jack Kallis', 25534), ('Virat Kohli', 24936)]"
   ]
  },
  {
   "cell_type": "markdown",
   "id": "4053e6c6-2cd2-41f0-9142-8960be7429ef",
   "metadata": {},
   "source": [
    "solution:"
   ]
  },
  {
   "cell_type": "code",
   "execution_count": 3,
   "id": "2dea9198-9dd7-4b3d-968d-925b47e98614",
   "metadata": {},
   "outputs": [
    {
     "name": "stdout",
     "output_type": "stream",
     "text": [
      "Virat Kohli:24936runs\n",
      "Jack Kallis:25534runs\n",
      "Ricky Ponting:27483runs\n",
      "Sachin Tendulkar:34357runs\n"
     ]
    }
   ],
   "source": [
    "# List of tuples\n",
    "data_1=[('Sachin Tendulkar', 34357), ('Ricky Ponting', 27483), ('Jack Kallis', 25534), ('Virat Kohli', 24936)]\n",
    "\n",
    "# Sorting based on the second element of each tuple (the integer value)\n",
    "    sorted_data=sorted(data_1,key=lambda x:x[1]) #imp\n",
    "\n",
    "# Displaying the sorted list\n",
    "for player ,runs in sorted_data:\n",
    "    print (f\"{player}:{runs}runs\")"
   ]
  },
  {
   "cell_type": "markdown",
   "id": "e771b438-82b5-4b18-84d4-01b4a830999f",
   "metadata": {},
   "source": [
    "Q2. Write a Python Program to find the squares of all the numbers in the given list of integers using\n",
    "lambda and map functions.[1, 2, 3, 4, 5, 6, 7, 8, 9, 10]"
   ]
  },
  {
   "cell_type": "markdown",
   "id": "8c4a870b-dead-4db4-a651-f8a5e5b3e2d6",
   "metadata": {},
   "source": [
    "Solution:"
   ]
  },
  {
   "cell_type": "code",
   "execution_count": 8,
   "id": "056549e1-4473-4005-b213-0b407fb1bfd6",
   "metadata": {},
   "outputs": [
    {
     "name": "stdout",
     "output_type": "stream",
     "text": [
      "Original number [1, 2, 3, 4, 5, 6, 7, 8, 9, 10]\n",
      "Squares number [1, 4, 9, 16, 25, 36, 49, 64, 81, 100]\n"
     ]
    }
   ],
   "source": [
    "# List of integers\n",
    "number=[1, 2, 3, 4, 5, 6, 7, 8, 9, 10]\n",
    "\n",
    "# Using map() and lambda to find the squares\n",
    "squares =list(map(lambda x:x**2 ,number))\n",
    "\n",
    "# Displaying the squares\n",
    "print(f\"Original number {number}\")\n",
    "print(f\"Squares number {squares}\")"
   ]
  },
  {
   "cell_type": "markdown",
   "id": "44cfbc1c-b0ae-4883-8da3-82bf9d569874",
   "metadata": {},
   "source": [
    "Q3. Write a python program to convert the given list of integers into a tuple of strings. Use map and\n",
    "lambda functions Given String: [1, 2, 3, 4, 5, 6, 7, 8, 9, 10]\n",
    "Expected output: ('1', '2', '3', '4', '5', '6', '7', '8', '9', '10')"
   ]
  },
  {
   "cell_type": "markdown",
   "id": "c1cf0ffb-779b-4e30-b785-869ce3319bcb",
   "metadata": {},
   "source": [
    "solution"
   ]
  },
  {
   "cell_type": "code",
   "execution_count": 10,
   "id": "c72d2f39-f760-4d3a-8831-2a06dc8cb527",
   "metadata": {},
   "outputs": [
    {
     "name": "stdout",
     "output_type": "stream",
     "text": [
      "original tuple [1, 2, 3, 4, 5, 6, 7, 8, 9, 10]\n",
      "Converted tuple of string ('1', '2', '3', '4', '5', '6', '7', '8', '9', '10')\n"
     ]
    }
   ],
   "source": [
    "#list of intiger\n",
    "number_1=[1, 2, 3, 4, 5, 6, 7, 8, 9, 10] \n",
    "\n",
    "# using map and lambda convert list into tuple of string\n",
    "string_tuple=tuple(map(lambda x: str (x),number_1))\n",
    "\n",
    "#Display the result \n",
    "print (\"original tuple\",number_1)\n",
    "print (\"Converted tuple of string\",string_tuple) "
   ]
  },
  {
   "cell_type": "markdown",
   "id": "a03e06ce-4943-428c-95bd-b0e6d3943c62",
   "metadata": {},
   "source": [
    "Q4. Write a python program using reduce function to compute the product of a list containing numbers\n",
    "from 1 to 25. "
   ]
  },
  {
   "cell_type": "markdown",
   "id": "07c2855d-ed93-45cf-8321-26bc6281a185",
   "metadata": {},
   "source": [
    "solution:"
   ]
  },
  {
   "cell_type": "code",
   "execution_count": 14,
   "id": "22b1212d-fe85-41c7-9e84-d9c8a025dd2a",
   "metadata": {},
   "outputs": [
    {
     "name": "stdout",
     "output_type": "stream",
     "text": [
      "List of Number [1, 2, 3, 4, 5, 6, 7, 8, 9, 10, 11, 12, 13, 14, 15, 16, 17, 18, 19, 20, 21, 22, 23, 24]\n",
      "product of list  620448401733239439360000\n"
     ]
    }
   ],
   "source": [
    "from functools import reduce\n",
    "import operator\n",
    "\n",
    "#genrating list of number from 1 to 25\n",
    "number=list(range(1,25))\n",
    "\n",
    "#using reduce to compute the produt\n",
    "product= reduce(operator.mul,number)\n",
    "\n",
    "# display the result\n",
    "print(\"List of Number\",number)\n",
    "print(\"product of list \",product)"
   ]
  },
  {
   "cell_type": "markdown",
   "id": "91ea58e7-039a-479d-87c6-edca93c27ac0",
   "metadata": {},
   "source": [
    "Q5. Write a python program to filter the numbers in a given list that are divisible by 2 and 3 using the\n",
    "filter function.[2, 3, 6, 9, 27, 60, 90, 120, 55, 46]"
   ]
  },
  {
   "cell_type": "markdown",
   "id": "aa39ba5a-ac9d-4c12-9946-d85843cfa726",
   "metadata": {},
   "source": [
    "Solution:"
   ]
  },
  {
   "cell_type": "code",
   "execution_count": 16,
   "id": "c534a3c2-fe6c-431c-98f3-f85ef40988eb",
   "metadata": {},
   "outputs": [
    {
     "name": "stdout",
     "output_type": "stream",
     "text": [
      "Original List : [2, 3, 6, 9, 27, 60, 90, 120, 55, 46]\n",
      "Filtered_number : [6, 60, 90, 120]\n"
     ]
    }
   ],
   "source": [
    "#given list of integer \n",
    "number_2=[2, 3, 6, 9, 27, 60, 90, 120, 55, 46]\n",
    "\n",
    "#Using filter() and lambda to filter divisible by 2 and 3\n",
    "filtered_numbers= list(filter(lambda x: x%2==0 and x%3==0 ,number_2))\n",
    "\n",
    "# display 2 result seperstly \n",
    "print(\"Original List :\",number_2)\n",
    "print(\"Filtered_number :\",filtered_numbers)"
   ]
  },
  {
   "cell_type": "markdown",
   "id": "0e7580c2-47ac-46e2-86df-eec5d6abc6ea",
   "metadata": {},
   "source": [
    "Q6. Write a python program to find palindromes in the given list of strings using lambda and filter\n",
    "function.['python', 'php', 'aba', 'radar', 'level']"
   ]
  },
  {
   "cell_type": "markdown",
   "id": "ac27ff79-f2d1-4ad0-a9dd-f47608fcfc21",
   "metadata": {},
   "source": [
    "Solution:"
   ]
  },
  {
   "cell_type": "code",
   "execution_count": 19,
   "id": "074289c9-a410-477f-8fdb-d3ae3580638a",
   "metadata": {},
   "outputs": [
    {
     "name": "stdout",
     "output_type": "stream",
     "text": [
      "Original List of string ['python', 'php', 'aba', 'radar', 'level']\n",
      "Palindromes List of string ['aba', 'level', 'php', 'radar']\n"
     ]
    }
   ],
   "source": [
    "#Given list of string\n",
    "words=['python', 'php', 'aba', 'radar', 'level']\n",
    "\n",
    "#Using filter and lambada function ,palindromes find out from string\n",
    "palindromes_words=sorted(list(filter(lambda x:x==x[::-1],words)))\n",
    "\n",
    "#display 2 result\n",
    "print(\"Original List of string\",words)\n",
    "print(\"Palindromes List of string\",palindromes_words)"
   ]
  }
 ],
 "metadata": {
  "kernelspec": {
   "display_name": "Python 3 (ipykernel)",
   "language": "python",
   "name": "python3"
  },
  "language_info": {
   "codemirror_mode": {
    "name": "ipython",
    "version": 3
   },
   "file_extension": ".py",
   "mimetype": "text/x-python",
   "name": "python",
   "nbconvert_exporter": "python",
   "pygments_lexer": "ipython3",
   "version": "3.10.8"
  }
 },
 "nbformat": 4,
 "nbformat_minor": 5
}
